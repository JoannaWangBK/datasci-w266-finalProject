{
 "cells": [
  {
   "cell_type": "markdown",
   "metadata": {},
   "source": [
    "# W266 Final Project Code\n",
    "# Amazon Product Review Aspect-Based Sentiment\n",
    "## Jennifer Mahle and Joanna Wang (Sections 3 and 1, respectively) "
   ]
  },
  {
   "cell_type": "markdown",
   "metadata": {},
   "source": [
    "#### Introduction\n",
    "For our final project, we built a classification system for Amazon product reviews. The system categorizes product reviews into various classes of what the review focuses on, then determines whether the review is positive or negative for a given product trait (ie durability, quality, etc). As a user, star ratings alone might not give enough information about the product, so reading the reviews still is the best way to determine if the product fits the user’s needs. The challenge is, sometimes there can be hundreds of reviews for a product and users cannot spend time reading all of them.  So we want to provide this classification system to reduce the review reading process and help the users to find what they need. \n"
   ]
  },
  {
   "cell_type": "markdown",
   "metadata": {},
   "source": [
    "### Exploratory Data Analysis\n",
    "\n",
    "In this section, we load, clean, and explore the data. We are using Amazon product reviews for electronics from the website https://nijianmo.github.io/amazon/index.html"
   ]
  },
  {
   "cell_type": "code",
   "execution_count": 11,
   "metadata": {},
   "outputs": [],
   "source": [
    "import warnings\n",
    "\n",
    "warnings.simplefilter(\"ignore\", UserWarning)\n",
    "warnings.simplefilter(\"ignore\", FutureWarning)\n",
    "warnings.simplefilter(\"ignore\", DeprecationWarning)"
   ]
  },
  {
   "cell_type": "code",
   "execution_count": 12,
   "metadata": {},
   "outputs": [
    {
     "data": {
      "text/html": [
       "<div>\n",
       "<style scoped>\n",
       "    .dataframe tbody tr th:only-of-type {\n",
       "        vertical-align: middle;\n",
       "    }\n",
       "\n",
       "    .dataframe tbody tr th {\n",
       "        vertical-align: top;\n",
       "    }\n",
       "\n",
       "    .dataframe thead th {\n",
       "        text-align: right;\n",
       "    }\n",
       "</style>\n",
       "<table border=\"1\" class=\"dataframe\">\n",
       "  <thead>\n",
       "    <tr style=\"text-align: right;\">\n",
       "      <th></th>\n",
       "      <th>asin</th>\n",
       "      <th>image</th>\n",
       "      <th>overall</th>\n",
       "      <th>reviewText</th>\n",
       "      <th>reviewTime</th>\n",
       "      <th>reviewerID</th>\n",
       "      <th>reviewerName</th>\n",
       "      <th>style</th>\n",
       "      <th>summary</th>\n",
       "      <th>unixReviewTime</th>\n",
       "      <th>verified</th>\n",
       "      <th>vote</th>\n",
       "    </tr>\n",
       "  </thead>\n",
       "  <tbody>\n",
       "    <tr>\n",
       "      <th>6739580</th>\n",
       "      <td>B01HJCN1EI</td>\n",
       "      <td>NaN</td>\n",
       "      <td>5</td>\n",
       "      <td>These are my favorite charging cords for a few...</td>\n",
       "      <td>07 25, 2017</td>\n",
       "      <td>A1OOVLE2KZ6KGA</td>\n",
       "      <td>Puddzee</td>\n",
       "      <td>NaN</td>\n",
       "      <td>Worth the price.</td>\n",
       "      <td>1500940800</td>\n",
       "      <td>True</td>\n",
       "      <td>NaN</td>\n",
       "    </tr>\n",
       "    <tr>\n",
       "      <th>6739581</th>\n",
       "      <td>B01HJCN1EI</td>\n",
       "      <td>NaN</td>\n",
       "      <td>1</td>\n",
       "      <td>Update....after 2 months of gentle use, cable ...</td>\n",
       "      <td>04 4, 2017</td>\n",
       "      <td>A77K1B31UAQ29</td>\n",
       "      <td>addictedtoreading</td>\n",
       "      <td>NaN</td>\n",
       "      <td>UPDATE...BREAKS AND SLOW CHARGING</td>\n",
       "      <td>1491264000</td>\n",
       "      <td>True</td>\n",
       "      <td>NaN</td>\n",
       "    </tr>\n",
       "    <tr>\n",
       "      <th>6739582</th>\n",
       "      <td>B01HJH42KU</td>\n",
       "      <td>NaN</td>\n",
       "      <td>3</td>\n",
       "      <td>These are okay. The connection becomes very if...</td>\n",
       "      <td>07 8, 2017</td>\n",
       "      <td>A2SVXUVUAWUDK2</td>\n",
       "      <td>Andrew</td>\n",
       "      <td>NaN</td>\n",
       "      <td>Hope this makes sense. You'd understand if you...</td>\n",
       "      <td>1499472000</td>\n",
       "      <td>True</td>\n",
       "      <td>NaN</td>\n",
       "    </tr>\n",
       "    <tr>\n",
       "      <th>6739583</th>\n",
       "      <td>B01HJH42KU</td>\n",
       "      <td>NaN</td>\n",
       "      <td>2</td>\n",
       "      <td>I liked the length and the product at first bu...</td>\n",
       "      <td>05 21, 2017</td>\n",
       "      <td>A12E1JGKV0ETAB</td>\n",
       "      <td>John Adams</td>\n",
       "      <td>NaN</td>\n",
       "      <td>Lost ability to connect.</td>\n",
       "      <td>1495324800</td>\n",
       "      <td>True</td>\n",
       "      <td>NaN</td>\n",
       "    </tr>\n",
       "    <tr>\n",
       "      <th>6739584</th>\n",
       "      <td>B01HJH40WU</td>\n",
       "      <td>NaN</td>\n",
       "      <td>3</td>\n",
       "      <td>not holding up over time :(</td>\n",
       "      <td>06 26, 2017</td>\n",
       "      <td>A1HKXEX8BEQC2E</td>\n",
       "      <td>Dasha stephens</td>\n",
       "      <td>NaN</td>\n",
       "      <td>not holding up over time :(</td>\n",
       "      <td>1498435200</td>\n",
       "      <td>True</td>\n",
       "      <td>NaN</td>\n",
       "    </tr>\n",
       "    <tr>\n",
       "      <th>6739585</th>\n",
       "      <td>B01HJH40WU</td>\n",
       "      <td>NaN</td>\n",
       "      <td>4</td>\n",
       "      <td>These seem like quality USB cables, time will ...</td>\n",
       "      <td>03 21, 2017</td>\n",
       "      <td>A33MAQA919J2V8</td>\n",
       "      <td>Kurt Wurm</td>\n",
       "      <td>NaN</td>\n",
       "      <td>Four Stars</td>\n",
       "      <td>1490054400</td>\n",
       "      <td>True</td>\n",
       "      <td>NaN</td>\n",
       "    </tr>\n",
       "    <tr>\n",
       "      <th>6739586</th>\n",
       "      <td>B01HJH40WU</td>\n",
       "      <td>NaN</td>\n",
       "      <td>4</td>\n",
       "      <td>Works great, love the longer cord. As with any...</td>\n",
       "      <td>01 9, 2017</td>\n",
       "      <td>A1AKHSCPD1BHM4</td>\n",
       "      <td>C.L Momof3</td>\n",
       "      <td>NaN</td>\n",
       "      <td>Nice long cord</td>\n",
       "      <td>1483920000</td>\n",
       "      <td>True</td>\n",
       "      <td>NaN</td>\n",
       "    </tr>\n",
       "    <tr>\n",
       "      <th>6739587</th>\n",
       "      <td>B01HJH40WU</td>\n",
       "      <td>NaN</td>\n",
       "      <td>5</td>\n",
       "      <td>Ok here is an odd thing that happened to me, I...</td>\n",
       "      <td>12 1, 2016</td>\n",
       "      <td>A2HUZO7MQAY5I2</td>\n",
       "      <td>michael clontz</td>\n",
       "      <td>NaN</td>\n",
       "      <td>Not the correct product as linked in the sale.</td>\n",
       "      <td>1480550400</td>\n",
       "      <td>True</td>\n",
       "      <td>2</td>\n",
       "    </tr>\n",
       "    <tr>\n",
       "      <th>6739588</th>\n",
       "      <td>B01HJH40WU</td>\n",
       "      <td>NaN</td>\n",
       "      <td>5</td>\n",
       "      <td>Works well.</td>\n",
       "      <td>11 29, 2016</td>\n",
       "      <td>AJJ7VX2L91X2W</td>\n",
       "      <td>Faith</td>\n",
       "      <td>NaN</td>\n",
       "      <td>Five Stars</td>\n",
       "      <td>1480377600</td>\n",
       "      <td>True</td>\n",
       "      <td>2</td>\n",
       "    </tr>\n",
       "    <tr>\n",
       "      <th>6739589</th>\n",
       "      <td>B01HJF704M</td>\n",
       "      <td>NaN</td>\n",
       "      <td>5</td>\n",
       "      <td>I have it plugged into a usb extension on my g...</td>\n",
       "      <td>03 31, 2017</td>\n",
       "      <td>A1FGCIRPRNZWD5</td>\n",
       "      <td>Brando</td>\n",
       "      <td>NaN</td>\n",
       "      <td>Works well enough..</td>\n",
       "      <td>1490918400</td>\n",
       "      <td>True</td>\n",
       "      <td>NaN</td>\n",
       "    </tr>\n",
       "  </tbody>\n",
       "</table>\n",
       "</div>"
      ],
      "text/plain": [
       "               asin image  overall  \\\n",
       "6739580  B01HJCN1EI   NaN        5   \n",
       "6739581  B01HJCN1EI   NaN        1   \n",
       "6739582  B01HJH42KU   NaN        3   \n",
       "6739583  B01HJH42KU   NaN        2   \n",
       "6739584  B01HJH40WU   NaN        3   \n",
       "6739585  B01HJH40WU   NaN        4   \n",
       "6739586  B01HJH40WU   NaN        4   \n",
       "6739587  B01HJH40WU   NaN        5   \n",
       "6739588  B01HJH40WU   NaN        5   \n",
       "6739589  B01HJF704M   NaN        5   \n",
       "\n",
       "                                                reviewText   reviewTime  \\\n",
       "6739580  These are my favorite charging cords for a few...  07 25, 2017   \n",
       "6739581  Update....after 2 months of gentle use, cable ...   04 4, 2017   \n",
       "6739582  These are okay. The connection becomes very if...   07 8, 2017   \n",
       "6739583  I liked the length and the product at first bu...  05 21, 2017   \n",
       "6739584                        not holding up over time :(  06 26, 2017   \n",
       "6739585  These seem like quality USB cables, time will ...  03 21, 2017   \n",
       "6739586  Works great, love the longer cord. As with any...   01 9, 2017   \n",
       "6739587  Ok here is an odd thing that happened to me, I...   12 1, 2016   \n",
       "6739588                                        Works well.  11 29, 2016   \n",
       "6739589  I have it plugged into a usb extension on my g...  03 31, 2017   \n",
       "\n",
       "             reviewerID       reviewerName style  \\\n",
       "6739580  A1OOVLE2KZ6KGA            Puddzee   NaN   \n",
       "6739581   A77K1B31UAQ29  addictedtoreading   NaN   \n",
       "6739582  A2SVXUVUAWUDK2             Andrew   NaN   \n",
       "6739583  A12E1JGKV0ETAB         John Adams   NaN   \n",
       "6739584  A1HKXEX8BEQC2E     Dasha stephens   NaN   \n",
       "6739585  A33MAQA919J2V8          Kurt Wurm   NaN   \n",
       "6739586  A1AKHSCPD1BHM4         C.L Momof3   NaN   \n",
       "6739587  A2HUZO7MQAY5I2     michael clontz   NaN   \n",
       "6739588   AJJ7VX2L91X2W              Faith   NaN   \n",
       "6739589  A1FGCIRPRNZWD5             Brando   NaN   \n",
       "\n",
       "                                                   summary  unixReviewTime  \\\n",
       "6739580                                   Worth the price.      1500940800   \n",
       "6739581                  UPDATE...BREAKS AND SLOW CHARGING      1491264000   \n",
       "6739582  Hope this makes sense. You'd understand if you...      1499472000   \n",
       "6739583                           Lost ability to connect.      1495324800   \n",
       "6739584                        not holding up over time :(      1498435200   \n",
       "6739585                                         Four Stars      1490054400   \n",
       "6739586                                     Nice long cord      1483920000   \n",
       "6739587     Not the correct product as linked in the sale.      1480550400   \n",
       "6739588                                         Five Stars      1480377600   \n",
       "6739589                                Works well enough..      1490918400   \n",
       "\n",
       "         verified vote  \n",
       "6739580      True  NaN  \n",
       "6739581      True  NaN  \n",
       "6739582      True  NaN  \n",
       "6739583      True  NaN  \n",
       "6739584      True  NaN  \n",
       "6739585      True  NaN  \n",
       "6739586      True  NaN  \n",
       "6739587      True    2  \n",
       "6739588      True    2  \n",
       "6739589      True  NaN  "
      ]
     },
     "metadata": {},
     "output_type": "display_data"
    }
   ],
   "source": [
    "import os\n",
    "import pandas as pd\n",
    "\n",
    "#dataset = \"Electronics_5.json\"\n",
    "#df = pd.read_json(\"Electronics_5.json\", lines=True)\n",
    "\n",
    "df = pd.read_csv(\"mini_x_train.csv\") \n",
    "\n",
    "display(df.tail(10))"
   ]
  },
  {
   "cell_type": "code",
   "execution_count": 13,
   "metadata": {},
   "outputs": [
    {
     "name": "stdout",
     "output_type": "stream",
     "text": [
      "<class 'pandas.core.frame.DataFrame'>\n",
      "RangeIndex: 6739590 entries, 0 to 6739589\n",
      "Data columns (total 12 columns):\n",
      "asin              object\n",
      "image             object\n",
      "overall           int64\n",
      "reviewText        object\n",
      "reviewTime        object\n",
      "reviewerID        object\n",
      "reviewerName      object\n",
      "style             object\n",
      "summary           object\n",
      "unixReviewTime    int64\n",
      "verified          bool\n",
      "vote              object\n",
      "dtypes: bool(1), int64(2), object(9)\n",
      "memory usage: 572.0+ MB\n",
      "None\n"
     ]
    }
   ],
   "source": [
    "print(df.info())\n"
   ]
  },
  {
   "cell_type": "code",
   "execution_count": 14,
   "metadata": {},
   "outputs": [],
   "source": [
    "from datetime import datetime\n",
    "\n",
    "condition = lambda row: datetime.fromtimestamp(row).strftime(\"%m-%d-%Y\")\n",
    "df[\"unixReviewTime\"] = df[\"unixReviewTime\"].apply(condition)"
   ]
  },
  {
   "cell_type": "code",
   "execution_count": 15,
   "metadata": {},
   "outputs": [
    {
     "data": {
      "text/html": [
       "<div>\n",
       "<style scoped>\n",
       "    .dataframe tbody tr th:only-of-type {\n",
       "        vertical-align: middle;\n",
       "    }\n",
       "\n",
       "    .dataframe tbody tr th {\n",
       "        vertical-align: top;\n",
       "    }\n",
       "\n",
       "    .dataframe thead th {\n",
       "        text-align: right;\n",
       "    }\n",
       "</style>\n",
       "<table border=\"1\" class=\"dataframe\">\n",
       "  <thead>\n",
       "    <tr style=\"text-align: right;\">\n",
       "      <th></th>\n",
       "      <th>asin</th>\n",
       "      <th>image</th>\n",
       "      <th>overall</th>\n",
       "      <th>reviewText</th>\n",
       "      <th>reviewerID</th>\n",
       "      <th>reviewerName</th>\n",
       "      <th>style</th>\n",
       "      <th>summary</th>\n",
       "      <th>unixReviewTime</th>\n",
       "      <th>verified</th>\n",
       "      <th>vote</th>\n",
       "    </tr>\n",
       "  </thead>\n",
       "  <tbody>\n",
       "    <tr>\n",
       "      <th>0</th>\n",
       "      <td>0151004714</td>\n",
       "      <td>NaN</td>\n",
       "      <td>5</td>\n",
       "      <td>This is the best novel I have read in 2 or 3 y...</td>\n",
       "      <td>AAP7PPBU72QFM</td>\n",
       "      <td>D. C. Carrad</td>\n",
       "      <td>{'Format:': ' Hardcover'}</td>\n",
       "      <td>A star is born</td>\n",
       "      <td>09-17-1999</td>\n",
       "      <td>True</td>\n",
       "      <td>67</td>\n",
       "    </tr>\n",
       "    <tr>\n",
       "      <th>1</th>\n",
       "      <td>0151004714</td>\n",
       "      <td>NaN</td>\n",
       "      <td>3</td>\n",
       "      <td>Pages and pages of introspection, in the style...</td>\n",
       "      <td>A2E168DTVGE6SV</td>\n",
       "      <td>Evy</td>\n",
       "      <td>{'Format:': ' Kindle Edition'}</td>\n",
       "      <td>A stream of consciousness novel</td>\n",
       "      <td>10-22-2013</td>\n",
       "      <td>True</td>\n",
       "      <td>5</td>\n",
       "    </tr>\n",
       "    <tr>\n",
       "      <th>2</th>\n",
       "      <td>0151004714</td>\n",
       "      <td>NaN</td>\n",
       "      <td>5</td>\n",
       "      <td>This is the kind of novel to read when you hav...</td>\n",
       "      <td>A1ER5AYS3FQ9O3</td>\n",
       "      <td>Kcorn</td>\n",
       "      <td>{'Format:': ' Paperback'}</td>\n",
       "      <td>I'm a huge fan of the author and this one did ...</td>\n",
       "      <td>09-01-2008</td>\n",
       "      <td>False</td>\n",
       "      <td>4</td>\n",
       "    </tr>\n",
       "    <tr>\n",
       "      <th>3</th>\n",
       "      <td>0151004714</td>\n",
       "      <td>NaN</td>\n",
       "      <td>5</td>\n",
       "      <td>What gorgeous language! What an incredible wri...</td>\n",
       "      <td>A1T17LMQABMBN5</td>\n",
       "      <td>Caf Girl Writes</td>\n",
       "      <td>{'Format:': ' Hardcover'}</td>\n",
       "      <td>The most beautiful book I have ever read!</td>\n",
       "      <td>09-03-2000</td>\n",
       "      <td>False</td>\n",
       "      <td>13</td>\n",
       "    </tr>\n",
       "    <tr>\n",
       "      <th>4</th>\n",
       "      <td>0151004714</td>\n",
       "      <td>NaN</td>\n",
       "      <td>3</td>\n",
       "      <td>I was taken in by reviews that compared this b...</td>\n",
       "      <td>A3QHJ0FXK33OBE</td>\n",
       "      <td>W. Shane Schmidt</td>\n",
       "      <td>{'Format:': ' Hardcover'}</td>\n",
       "      <td>A dissenting view--In part.</td>\n",
       "      <td>02-03-2000</td>\n",
       "      <td>True</td>\n",
       "      <td>8</td>\n",
       "    </tr>\n",
       "  </tbody>\n",
       "</table>\n",
       "</div>"
      ],
      "text/plain": [
       "         asin image  overall  \\\n",
       "0  0151004714   NaN        5   \n",
       "1  0151004714   NaN        3   \n",
       "2  0151004714   NaN        5   \n",
       "3  0151004714   NaN        5   \n",
       "4  0151004714   NaN        3   \n",
       "\n",
       "                                          reviewText      reviewerID  \\\n",
       "0  This is the best novel I have read in 2 or 3 y...   AAP7PPBU72QFM   \n",
       "1  Pages and pages of introspection, in the style...  A2E168DTVGE6SV   \n",
       "2  This is the kind of novel to read when you hav...  A1ER5AYS3FQ9O3   \n",
       "3  What gorgeous language! What an incredible wri...  A1T17LMQABMBN5   \n",
       "4  I was taken in by reviews that compared this b...  A3QHJ0FXK33OBE   \n",
       "\n",
       "       reviewerName                           style  \\\n",
       "0      D. C. Carrad       {'Format:': ' Hardcover'}   \n",
       "1               Evy  {'Format:': ' Kindle Edition'}   \n",
       "2             Kcorn       {'Format:': ' Paperback'}   \n",
       "3   Caf Girl Writes       {'Format:': ' Hardcover'}   \n",
       "4  W. Shane Schmidt       {'Format:': ' Hardcover'}   \n",
       "\n",
       "                                             summary unixReviewTime  verified  \\\n",
       "0                                     A star is born     09-17-1999      True   \n",
       "1                    A stream of consciousness novel     10-22-2013      True   \n",
       "2  I'm a huge fan of the author and this one did ...     09-01-2008     False   \n",
       "3          The most beautiful book I have ever read!     09-03-2000     False   \n",
       "4                        A dissenting view--In part.     02-03-2000      True   \n",
       "\n",
       "  vote  \n",
       "0   67  \n",
       "1    5  \n",
       "2    4  \n",
       "3   13  \n",
       "4    8  "
      ]
     },
     "metadata": {},
     "output_type": "display_data"
    }
   ],
   "source": [
    "df.drop(labels=\"reviewTime\", axis=1, inplace=True)\n",
    "\n",
    "display(df.head())"
   ]
  },
  {
   "cell_type": "code",
   "execution_count": 5,
   "metadata": {},
   "outputs": [
    {
     "name": "stdout",
     "output_type": "stream",
     "text": [
      "This is the best novel I have read in 2 or 3 years.  It is everything that fiction should be -- beautifully written, engaging, well-plotted and structured.  It has several layers of meanings -- historical, family,  philosophical and more -- and blends them all skillfully and interestingly.  It makes the American grad student/writers' workshop \"my parents were  mean to me and then my professors were mean to me\" trivia look  childish and silly by comparison, as they are.\n",
      "Anyone who says this is an  adolescent girl's coming of age story is trivializing it.  Ignore them.  Read this book if you love literature.\n",
      "I was particularly impressed with  this young author's grasp of the meaning and texture of the lost world of  French Algeria in the 1950's and '60's...particularly poignant when read in  1999 from another ruined and abandoned French colony, amid the decaying  buildings of Phnom Penh...\n",
      "I hope the author will write many more books  and that her publishers will bring her first novel back into print -- I  want to read it.  Thank you, Ms. Messud, for writing such a wonderful work.\n"
     ]
    }
   ],
   "source": [
    "print(df[\"reviewText\"].iloc[0])"
   ]
  },
  {
   "cell_type": "code",
   "execution_count": 6,
   "metadata": {},
   "outputs": [
    {
     "name": "stdout",
     "output_type": "stream",
     "text": [
      "[5 3 4 2 1]\n"
     ]
    }
   ],
   "source": [
    "print(df.overall.unique())"
   ]
  },
  {
   "cell_type": "code",
   "execution_count": 7,
   "metadata": {},
   "outputs": [
    {
     "name": "stdout",
     "output_type": "stream",
     "text": [
      "Del sistema digital anexo pros y contras\n",
      "- Muy bueno porque reduce la necesidad de instalaciones\n",
      "- Opera con varios equipos\n",
      "- El tamao es adecuado\n",
      "\n",
      "- Si hay variacion de voltaje la velocidad se ve mermada\n",
      "- El cable de alimentacion es muy corto (que se puede conseguir)\n",
      "\n",
      "En terminos generales estoy satisfecho\n"
     ]
    }
   ],
   "source": [
    "sample_review = df[\"reviewText\"].iloc[1689185]\n",
    "print(sample_review)"
   ]
  },
  {
   "cell_type": "code",
   "execution_count": 8,
   "metadata": {},
   "outputs": [
    {
     "name": "stdout",
     "output_type": "stream",
     "text": [
      "Del sistema digital anexo pros y contras\n",
      "- Muy bueno porque reduce la necesidad de instalaciones\n",
      "- Opera con varios equipos\n",
      "- El tamao es adecuado\n",
      "\n",
      "- Si hay variacion de voltaje la velocidad se ve mermada\n",
      "- El cable de alimentacion es muy corto (que se puede conseguir)\n",
      "\n",
      "En terminos generales estoy satisfecho\n"
     ]
    }
   ],
   "source": [
    "import html\n",
    "\n",
    "decoded_review = html.unescape(sample_review)\n",
    "print(decoded_review)"
   ]
  },
  {
   "cell_type": "code",
   "execution_count": 17,
   "metadata": {},
   "outputs": [
    {
     "name": "stdout",
     "output_type": "stream",
     "text": [
      "Data Shape:  (6739590, 11)\n",
      "Data Shape Dropping Observations with NA for the Review Text:  (6738237, 11)\n"
     ]
    }
   ],
   "source": [
    "print(\"Data Shape: \",df.shape)\n",
    "no_NA_reviews = df.dropna(subset=['reviewText'])\n",
    "print(\"Data Shape Dropping Observations with NA for the Review Text: \", no_NA_reviews.shape)"
   ]
  },
  {
   "cell_type": "markdown",
   "metadata": {},
   "source": [
    "### Text Encoding using Universal Sentence Encoder\n",
    "\n",
    "In the subsequent code cells, we load the Universal Sentence Encoder (USE), break the data into training and testing data, and apply the USE to the data. "
   ]
  },
  {
   "cell_type": "code",
   "execution_count": null,
   "metadata": {},
   "outputs": [],
   "source": [
    "# Remove ## from lines starting with ! and run them the first time to install necessary packages \n",
    "\n",
    "##%%capture\n",
    "# Install the latest Tensorflow version.\n",
    "##!pip3 install --upgrade tensorflow-gpu\n",
    "# Install TF-Hub.\n",
    "##!pip3 install tensorflow-hub\n",
    "##!pip3 install seaborn\n"
   ]
  },
  {
   "cell_type": "code",
   "execution_count": 20,
   "metadata": {},
   "outputs": [
    {
     "name": "stdout",
     "output_type": "stream",
     "text": [
      "WARNING:tensorflow:From C:\\Users\\jrmah\\AppData\\Roaming\\Python\\Python36\\site-packages\\tensorflow_core\\python\\ops\\resource_variable_ops.py:1781: calling BaseResourceVariable.__init__ (from tensorflow.python.ops.resource_variable_ops) with constraint is deprecated and will be removed in a future version.\n",
      "Instructions for updating:\n",
      "If using Keras pass *_constraint arguments to layers.\n"
     ]
    },
    {
     "name": "stderr",
     "output_type": "stream",
     "text": [
      "WARNING:tensorflow:From C:\\Users\\jrmah\\AppData\\Roaming\\Python\\Python36\\site-packages\\tensorflow_core\\python\\ops\\resource_variable_ops.py:1781: calling BaseResourceVariable.__init__ (from tensorflow.python.ops.resource_variable_ops) with constraint is deprecated and will be removed in a future version.\n",
      "Instructions for updating:\n",
      "If using Keras pass *_constraint arguments to layers.\n"
     ]
    },
    {
     "name": "stdout",
     "output_type": "stream",
     "text": [
      "module https://tfhub.dev/google/universal-sentence-encoder/4 loaded\n"
     ]
    }
   ],
   "source": [
    "#@title Load the Universal Sentence Encoder's TF Hub module\n",
    "from absl import logging\n",
    "\n",
    "import tensorflow as tf\n",
    "import tensorflow_hub as hub\n",
    "import matplotlib.pyplot as plt\n",
    "import numpy as np\n",
    "import os\n",
    "import pandas as pd\n",
    "import re\n",
    "import seaborn as sns\n",
    "\n",
    "module_url = \"https://tfhub.dev/google/universal-sentence-encoder/4\" #@param [\"https://tfhub.dev/google/universal-sentence-encoder/4\", \"https://tfhub.dev/google/universal-sentence-encoder-large/5\"]\n",
    "model = hub.load(module_url)\n",
    "print (\"module %s loaded\" % module_url)\n",
    "def embed(input):\n",
    "  return model(input)"
   ]
  },
  {
   "cell_type": "code",
   "execution_count": 18,
   "metadata": {},
   "outputs": [],
   "source": [
    "#split the data into training and testing data, using \"overall\" as the target variable\n",
    "y=no_NA_reviews.overall\n",
    "x=no_NA_reviews.drop('overall',axis=1)\n"
   ]
  },
  {
   "cell_type": "code",
   "execution_count": 23,
   "metadata": {},
   "outputs": [],
   "source": [
    "from sklearn.model_selection import train_test_split\n",
    "\n",
    "#x_train,x_test,y_train,y_test=train_test_split(x,y,test_size=0.2)\n",
    "mini_x_train,mini_x_test,mini_y_train,mini_y_test=train_test_split(x,y,test_size=0.9999)\n",
    "\n",
    "df.to_csv(r'C:\\Users\\jrmah\\Desktop\\datasci-w266-finalProject\\mini_x_train.csv')"
   ]
  },
  {
   "cell_type": "code",
   "execution_count": null,
   "metadata": {},
   "outputs": [],
   "source": [
    "#create embeddings on the training data \n",
    "logging.set_verbosity(logging.ERROR)\n",
    "#message_embeddings = embed(x_train.reviewText)\n",
    "message_embeddings = embed(mini_x_train.reviewText)"
   ]
  },
  {
   "cell_type": "code",
   "execution_count": 29,
   "metadata": {},
   "outputs": [
    {
     "name": "stdout",
     "output_type": "stream",
     "text": [
      "Training X Shape (673, 10)\n",
      "Testing X Shape (6737564, 10)\n"
     ]
    }
   ],
   "source": [
    "print(\"Training X Shape\", mini_x_train.shape)\n",
    "print(\"Testing X Shape\", mini_x_test.shape)"
   ]
  },
  {
   "cell_type": "code",
   "execution_count": 32,
   "metadata": {},
   "outputs": [
    {
     "data": {
      "text/html": [
       "<div>\n",
       "<style scoped>\n",
       "    .dataframe tbody tr th:only-of-type {\n",
       "        vertical-align: middle;\n",
       "    }\n",
       "\n",
       "    .dataframe tbody tr th {\n",
       "        vertical-align: top;\n",
       "    }\n",
       "\n",
       "    .dataframe thead th {\n",
       "        text-align: right;\n",
       "    }\n",
       "</style>\n",
       "<table border=\"1\" class=\"dataframe\">\n",
       "  <thead>\n",
       "    <tr style=\"text-align: right;\">\n",
       "      <th></th>\n",
       "      <th>asin</th>\n",
       "      <th>image</th>\n",
       "      <th>reviewText</th>\n",
       "      <th>reviewerID</th>\n",
       "      <th>reviewerName</th>\n",
       "      <th>style</th>\n",
       "      <th>summary</th>\n",
       "      <th>unixReviewTime</th>\n",
       "      <th>verified</th>\n",
       "      <th>vote</th>\n",
       "    </tr>\n",
       "  </thead>\n",
       "  <tbody>\n",
       "    <tr>\n",
       "      <th>5311304</th>\n",
       "      <td>B00Z6XGX98</td>\n",
       "      <td>NaN</td>\n",
       "      <td>OMG, everyone that listens to music through ea...</td>\n",
       "      <td>A3EA01H53H6KT6</td>\n",
       "      <td>John Henson</td>\n",
       "      <td>NaN</td>\n",
       "      <td>I love this brand the most</td>\n",
       "      <td>03-28-2015</td>\n",
       "      <td>True</td>\n",
       "      <td>NaN</td>\n",
       "    </tr>\n",
       "    <tr>\n",
       "      <th>1379848</th>\n",
       "      <td>B0023RRCP4</td>\n",
       "      <td>NaN</td>\n",
       "      <td>Didn't help at all, returned for refund</td>\n",
       "      <td>A16HCPQ51L8IUR</td>\n",
       "      <td>John Gruszynski</td>\n",
       "      <td>NaN</td>\n",
       "      <td>Two Stars</td>\n",
       "      <td>11-15-2014</td>\n",
       "      <td>True</td>\n",
       "      <td>NaN</td>\n",
       "    </tr>\n",
       "    <tr>\n",
       "      <th>5447345</th>\n",
       "      <td>B0131PBN6U</td>\n",
       "      <td>NaN</td>\n",
       "      <td>Great monitor for the price. Paired with my rx...</td>\n",
       "      <td>A1WCDPSDPJOSVF</td>\n",
       "      <td>Max</td>\n",
       "      <td>{'Size:': ' 24\"', 'Style:': ' With Base Stand'}</td>\n",
       "      <td>Five Stars</td>\n",
       "      <td>07-04-2016</td>\n",
       "      <td>True</td>\n",
       "      <td>NaN</td>\n",
       "    </tr>\n",
       "    <tr>\n",
       "      <th>936446</th>\n",
       "      <td>B000Y9TZ9Y</td>\n",
       "      <td>NaN</td>\n",
       "      <td>Great Product</td>\n",
       "      <td>A2WSD8KNLRE34X</td>\n",
       "      <td>David W. Wollenschlager</td>\n",
       "      <td>{'Package Type:': ' Frustration-Free Packaging'}</td>\n",
       "      <td>Five Stars</td>\n",
       "      <td>09-27-2015</td>\n",
       "      <td>True</td>\n",
       "      <td>NaN</td>\n",
       "    </tr>\n",
       "    <tr>\n",
       "      <th>1786054</th>\n",
       "      <td>B0047K0036</td>\n",
       "      <td>NaN</td>\n",
       "      <td>Worth every penny,  If you don't like bright t...</td>\n",
       "      <td>A2WHJW3APWPJ2B</td>\n",
       "      <td>sky</td>\n",
       "      <td>{'Color:': ' black'}</td>\n",
       "      <td>If you don't like bright tweet clear mid and l...</td>\n",
       "      <td>07-25-2016</td>\n",
       "      <td>False</td>\n",
       "      <td>2</td>\n",
       "    </tr>\n",
       "  </tbody>\n",
       "</table>\n",
       "</div>"
      ],
      "text/plain": [
       "               asin image                                         reviewText  \\\n",
       "5311304  B00Z6XGX98   NaN  OMG, everyone that listens to music through ea...   \n",
       "1379848  B0023RRCP4   NaN            Didn't help at all, returned for refund   \n",
       "5447345  B0131PBN6U   NaN  Great monitor for the price. Paired with my rx...   \n",
       "936446   B000Y9TZ9Y   NaN                                      Great Product   \n",
       "1786054  B0047K0036   NaN  Worth every penny,  If you don't like bright t...   \n",
       "\n",
       "             reviewerID             reviewerName  \\\n",
       "5311304  A3EA01H53H6KT6              John Henson   \n",
       "1379848  A16HCPQ51L8IUR          John Gruszynski   \n",
       "5447345  A1WCDPSDPJOSVF                      Max   \n",
       "936446   A2WSD8KNLRE34X  David W. Wollenschlager   \n",
       "1786054  A2WHJW3APWPJ2B                      sky   \n",
       "\n",
       "                                                    style  \\\n",
       "5311304                                               NaN   \n",
       "1379848                                               NaN   \n",
       "5447345   {'Size:': ' 24\"', 'Style:': ' With Base Stand'}   \n",
       "936446   {'Package Type:': ' Frustration-Free Packaging'}   \n",
       "1786054                              {'Color:': ' black'}   \n",
       "\n",
       "                                                   summary unixReviewTime  \\\n",
       "5311304                         I love this brand the most     03-28-2015   \n",
       "1379848                                          Two Stars     11-15-2014   \n",
       "5447345                                         Five Stars     07-04-2016   \n",
       "936446                                          Five Stars     09-27-2015   \n",
       "1786054  If you don't like bright tweet clear mid and l...     07-25-2016   \n",
       "\n",
       "         verified vote  \n",
       "5311304      True  NaN  \n",
       "1379848      True  NaN  \n",
       "5447345      True  NaN  \n",
       "936446       True  NaN  \n",
       "1786054     False    2  "
      ]
     },
     "execution_count": 32,
     "metadata": {},
     "output_type": "execute_result"
    }
   ],
   "source": [
    "mini_x_train.head()"
   ]
  },
  {
   "cell_type": "code",
   "execution_count": 17,
   "metadata": {},
   "outputs": [
    {
     "data": {
      "text/plain": [
       "<tf.Tensor 'strided_slice_1:0' shape=(512,) dtype=float32>"
      ]
     },
     "execution_count": 17,
     "metadata": {},
     "output_type": "execute_result"
    }
   ],
   "source": [
    "message_embeddings[0]"
   ]
  },
  {
   "cell_type": "code",
   "execution_count": null,
   "metadata": {},
   "outputs": [],
   "source": [
    "#!python -m pip install --upgrade pip\n",
    "#!pip install torch\n",
    "#!pip install stanfordnlp"
   ]
  },
  {
   "cell_type": "code",
   "execution_count": 35,
   "metadata": {},
   "outputs": [],
   "source": [
    "# need to install java (unless you already have it installed) \n",
    "# and update the path to where ever it is stored on your computer\n",
    "import os\n",
    "java_path = \"C:/Program Files/Java/jre1.8.0_241/bin/java.exe\"\n",
    "os.environ['JAVAHOME'] = java_path\n",
    "\n",
    "# need to follow instructions to install Stanford POS tagger here: \n",
    "# https://phitchuria.wordpress.com/2018/09/29/python-nltk-using-stanford-pos-tagger-in-nltk-on-windows/\n",
    "from nltk.tag import StanfordPOSTagger\n",
    "stanford_dir = \"C:\\Stanford\\stanford-postagger-2018-10-16\"\n",
    "modelfile = stanford_dir+\"\\models\\english-bidirectional-distsim.tagger\"\n",
    "jarfile=stanford_dir+\"\\stanford-postagger.jar\"\n",
    "\n",
    "tagger=StanfordPOSTagger(model_filename=modelfile, path_to_jar=jarfile)\n",
    "tagged_POS = tagger.tag(mini_x_train.reviewText)\n"
   ]
  },
  {
   "cell_type": "code",
   "execution_count": 36,
   "metadata": {},
   "outputs": [
    {
     "name": "stdout",
     "output_type": "stream",
     "text": [
      "Loading default properties from tagger C:\\Stanford\\stanford-postagger-2018-10-16\\models\\english-bidirectional-distsim.tagger\n",
      "Loading POS tagger from C:\\Stanford\\stanford-postagger-2018-10-16\\models\\english-bidirectional-distsim.tagger ... done [1.9 sec].\n",
      "Exception in thread \"main\" java.lang.OutOfMemoryError: Java heap space\r\n",
      "\tat edu.stanford.nlp.sequences.ExactBestSequenceFinder.bestSequence(ExactBestSequenceFinder.java:87)\r\n",
      "\tat edu.stanford.nlp.sequences.ExactBestSequenceFinder.bestSequence(ExactBestSequenceFinder.java:37)\r\n",
      "\tat edu.stanford.nlp.tagger.maxent.TestSentence.runTagInference(TestSentence.java:341)\r\n",
      "\tat edu.stanford.nlp.tagger.maxent.TestSentence.testTagInference(TestSentence.java:328)\r\n",
      "\tat edu.stanford.nlp.tagger.maxent.TestSentence.tagSentence(TestSentence.java:151)\r\n",
      "\tat edu.stanford.nlp.tagger.maxent.MaxentTagger.tagSentence(MaxentTagger.java:1052)\r\n",
      "\tat edu.stanford.nlp.tagger.maxent.MaxentTagger.tagCoreLabelsOrHasWords(MaxentTagger.java:1843)\r\n",
      "\tat edu.stanford.nlp.tagger.maxent.MaxentTagger.tagAndOutputSentence(MaxentTagger.java:1853)\r\n",
      "\tat edu.stanford.nlp.tagger.maxent.MaxentTagger.runTagger(MaxentTagger.java:1764)\r\n",
      "\tat edu.stanford.nlp.tagger.maxent.MaxentTagger.runTagger(MaxentTagger.java:1825)\r\n",
      "\tat edu.stanford.nlp.tagger.maxent.MaxentTagger.runTagger(MaxentTagger.java:1598)\r\n",
      "\tat edu.stanford.nlp.tagger.maxent.MaxentTagger.runTagger(MaxentTagger.java:1554)\r\n",
      "\tat edu.stanford.nlp.tagger.maxent.MaxentTagger.main(MaxentTagger.java:1897)\r\n",
      "\n"
     ]
    },
    {
     "ename": "OSError",
     "evalue": "Java command failed : ['C:/Program Files/Java/jre1.8.0_241/bin/java.exe', '-mx1000m', '-cp', 'C:\\\\Stanford\\\\stanford-postagger-2018-10-16\\\\stanford-postagger.jar', 'edu.stanford.nlp.tagger.maxent.MaxentTagger', '-model', 'C:\\\\Stanford\\\\stanford-postagger-2018-10-16\\\\models\\\\english-bidirectional-distsim.tagger', '-textFile', 'C:\\\\Users\\\\jrmah\\\\AppData\\\\Local\\\\Temp\\\\tmpat7t7pda', '-tokenize', 'false', '-outputFormatOptions', 'keepEmptySentences', '-encoding', 'utf8']",
     "output_type": "error",
     "traceback": [
      "\u001b[1;31m---------------------------------------------------------------------------\u001b[0m",
      "\u001b[1;31mOSError\u001b[0m                                   Traceback (most recent call last)",
      "\u001b[1;32m<ipython-input-36-b127a689b69d>\u001b[0m in \u001b[0;36m<module>\u001b[1;34m()\u001b[0m\n\u001b[1;32m----> 1\u001b[1;33m \u001b[0mtagged_sent_POS\u001b[0m \u001b[1;33m=\u001b[0m \u001b[0mtagger\u001b[0m\u001b[1;33m.\u001b[0m\u001b[0mtag_sents\u001b[0m\u001b[1;33m(\u001b[0m\u001b[0mmini_x_train\u001b[0m\u001b[1;33m.\u001b[0m\u001b[0mreviewText\u001b[0m\u001b[1;33m)\u001b[0m\u001b[1;33m\u001b[0m\u001b[0m\n\u001b[0m",
      "\u001b[1;32m~\\AppData\\Local\\Continuum\\anaconda3\\lib\\site-packages\\nltk\\tag\\stanford.py\u001b[0m in \u001b[0;36mtag_sents\u001b[1;34m(self, sentences)\u001b[0m\n\u001b[0;32m    102\u001b[0m         \u001b[1;31m# Run the tagger and get the output\u001b[0m\u001b[1;33m\u001b[0m\u001b[1;33m\u001b[0m\u001b[0m\n\u001b[0;32m    103\u001b[0m         stanpos_output, _stderr = java(cmd, classpath=self._stanford_jar,\n\u001b[1;32m--> 104\u001b[1;33m                                        stdout=PIPE, stderr=PIPE)\n\u001b[0m\u001b[0;32m    105\u001b[0m         \u001b[0mstanpos_output\u001b[0m \u001b[1;33m=\u001b[0m \u001b[0mstanpos_output\u001b[0m\u001b[1;33m.\u001b[0m\u001b[0mdecode\u001b[0m\u001b[1;33m(\u001b[0m\u001b[0mencoding\u001b[0m\u001b[1;33m)\u001b[0m\u001b[1;33m\u001b[0m\u001b[0m\n\u001b[0;32m    106\u001b[0m \u001b[1;33m\u001b[0m\u001b[0m\n",
      "\u001b[1;32m~\\AppData\\Local\\Continuum\\anaconda3\\lib\\site-packages\\nltk\\__init__.py\u001b[0m in \u001b[0;36mjava\u001b[1;34m(cmd, classpath, stdin, stdout, stderr, blocking)\u001b[0m\n\u001b[0;32m    134\u001b[0m     \u001b[1;32mif\u001b[0m \u001b[0mp\u001b[0m\u001b[1;33m.\u001b[0m\u001b[0mreturncode\u001b[0m \u001b[1;33m!=\u001b[0m \u001b[1;36m0\u001b[0m\u001b[1;33m:\u001b[0m\u001b[1;33m\u001b[0m\u001b[0m\n\u001b[0;32m    135\u001b[0m         \u001b[0mprint\u001b[0m\u001b[1;33m(\u001b[0m\u001b[0m_decode_stdoutdata\u001b[0m\u001b[1;33m(\u001b[0m\u001b[0mstderr\u001b[0m\u001b[1;33m)\u001b[0m\u001b[1;33m)\u001b[0m\u001b[1;33m\u001b[0m\u001b[0m\n\u001b[1;32m--> 136\u001b[1;33m         \u001b[1;32mraise\u001b[0m \u001b[0mOSError\u001b[0m\u001b[1;33m(\u001b[0m\u001b[1;34m'Java command failed : '\u001b[0m \u001b[1;33m+\u001b[0m \u001b[0mstr\u001b[0m\u001b[1;33m(\u001b[0m\u001b[0mcmd\u001b[0m\u001b[1;33m)\u001b[0m\u001b[1;33m)\u001b[0m\u001b[1;33m\u001b[0m\u001b[0m\n\u001b[0m\u001b[0;32m    137\u001b[0m \u001b[1;33m\u001b[0m\u001b[0m\n\u001b[0;32m    138\u001b[0m     \u001b[1;32mreturn\u001b[0m \u001b[1;33m(\u001b[0m\u001b[0mstdout\u001b[0m\u001b[1;33m,\u001b[0m \u001b[0mstderr\u001b[0m\u001b[1;33m)\u001b[0m\u001b[1;33m\u001b[0m\u001b[0m\n",
      "\u001b[1;31mOSError\u001b[0m: Java command failed : ['C:/Program Files/Java/jre1.8.0_241/bin/java.exe', '-mx1000m', '-cp', 'C:\\\\Stanford\\\\stanford-postagger-2018-10-16\\\\stanford-postagger.jar', 'edu.stanford.nlp.tagger.maxent.MaxentTagger', '-model', 'C:\\\\Stanford\\\\stanford-postagger-2018-10-16\\\\models\\\\english-bidirectional-distsim.tagger', '-textFile', 'C:\\\\Users\\\\jrmah\\\\AppData\\\\Local\\\\Temp\\\\tmpat7t7pda', '-tokenize', 'false', '-outputFormatOptions', 'keepEmptySentences', '-encoding', 'utf8']"
     ]
    }
   ],
   "source": [
    "tagged_sent_POS = tagger.tag_sents(mini_x_train.reviewText)"
   ]
  },
  {
   "cell_type": "code",
   "execution_count": null,
   "metadata": {},
   "outputs": [],
   "source": []
  }
 ],
 "metadata": {
  "kernelspec": {
   "display_name": "Python 3",
   "language": "python",
   "name": "python3"
  },
  "language_info": {
   "codemirror_mode": {
    "name": "ipython",
    "version": 3
   },
   "file_extension": ".py",
   "mimetype": "text/x-python",
   "name": "python",
   "nbconvert_exporter": "python",
   "pygments_lexer": "ipython3",
   "version": "3.6.5"
  }
 },
 "nbformat": 4,
 "nbformat_minor": 2
}
