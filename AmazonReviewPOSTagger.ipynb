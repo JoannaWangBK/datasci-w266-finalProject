{
 "cells": [
  {
   "cell_type": "markdown",
   "metadata": {},
   "source": [
    "# W266 Final Project Code\n",
    "# Amazon Product Review Aspect-Based Sentiment\n",
    "## Jennifer Mahle and Joanna Wang (Sections 3 and 1, respectively) "
   ]
  },
  {
   "cell_type": "markdown",
   "metadata": {},
   "source": [
    "#### Introduction\n",
    "For our final project, we built a classification system for Amazon product reviews. The system categorizes product reviews into various classes of what the review focuses on, then determines whether the review is positive or negative for a given product trait (ie durability, quality, etc). As a user, star ratings alone might not give enough information about the product, so reading the reviews still is the best way to determine if the product fits the user’s needs. The challenge is, sometimes there can be hundreds of reviews for a product and users cannot spend time reading all of them.  So we want to provide this classification system to reduce the review reading process and help the users to find what they need. \n"
   ]
  },
  {
   "cell_type": "markdown",
   "metadata": {},
   "source": [
    "### Exploratory Data Analysis\n",
    "\n",
    "In this section, we load, clean, and explore the data. We are using Amazon product reviews for electronics from the website https://nijianmo.github.io/amazon/index.html"
   ]
  },
  {
   "cell_type": "code",
   "execution_count": 1,
   "metadata": {},
   "outputs": [],
   "source": [
    "import warnings\n",
    "\n",
    "warnings.simplefilter(\"ignore\", UserWarning)\n",
    "warnings.simplefilter(\"ignore\", FutureWarning)\n",
    "warnings.simplefilter(\"ignore\", DeprecationWarning)"
   ]
  },
  {
   "cell_type": "code",
   "execution_count": 2,
   "metadata": {},
   "outputs": [
    {
     "data": {
      "text/html": [
       "<div>\n",
       "<style scoped>\n",
       "    .dataframe tbody tr th:only-of-type {\n",
       "        vertical-align: middle;\n",
       "    }\n",
       "\n",
       "    .dataframe tbody tr th {\n",
       "        vertical-align: top;\n",
       "    }\n",
       "\n",
       "    .dataframe thead th {\n",
       "        text-align: right;\n",
       "    }\n",
       "</style>\n",
       "<table border=\"1\" class=\"dataframe\">\n",
       "  <thead>\n",
       "    <tr style=\"text-align: right;\">\n",
       "      <th></th>\n",
       "      <th>asin</th>\n",
       "      <th>image</th>\n",
       "      <th>overall</th>\n",
       "      <th>reviewText</th>\n",
       "      <th>reviewTime</th>\n",
       "      <th>reviewerID</th>\n",
       "      <th>reviewerName</th>\n",
       "      <th>style</th>\n",
       "      <th>summary</th>\n",
       "      <th>unixReviewTime</th>\n",
       "      <th>verified</th>\n",
       "      <th>vote</th>\n",
       "    </tr>\n",
       "  </thead>\n",
       "  <tbody>\n",
       "    <tr>\n",
       "      <th>6739580</th>\n",
       "      <td>B01HJCN1EI</td>\n",
       "      <td>NaN</td>\n",
       "      <td>5</td>\n",
       "      <td>These are my favorite charging cords for a few...</td>\n",
       "      <td>07 25, 2017</td>\n",
       "      <td>A1OOVLE2KZ6KGA</td>\n",
       "      <td>Puddzee</td>\n",
       "      <td>NaN</td>\n",
       "      <td>Worth the price.</td>\n",
       "      <td>1500940800</td>\n",
       "      <td>True</td>\n",
       "      <td>NaN</td>\n",
       "    </tr>\n",
       "    <tr>\n",
       "      <th>6739581</th>\n",
       "      <td>B01HJCN1EI</td>\n",
       "      <td>NaN</td>\n",
       "      <td>1</td>\n",
       "      <td>Update....after 2 months of gentle use, cable ...</td>\n",
       "      <td>04 4, 2017</td>\n",
       "      <td>A77K1B31UAQ29</td>\n",
       "      <td>addictedtoreading</td>\n",
       "      <td>NaN</td>\n",
       "      <td>UPDATE...BREAKS AND SLOW CHARGING</td>\n",
       "      <td>1491264000</td>\n",
       "      <td>True</td>\n",
       "      <td>NaN</td>\n",
       "    </tr>\n",
       "    <tr>\n",
       "      <th>6739582</th>\n",
       "      <td>B01HJH42KU</td>\n",
       "      <td>NaN</td>\n",
       "      <td>3</td>\n",
       "      <td>These are okay. The connection becomes very if...</td>\n",
       "      <td>07 8, 2017</td>\n",
       "      <td>A2SVXUVUAWUDK2</td>\n",
       "      <td>Andrew</td>\n",
       "      <td>NaN</td>\n",
       "      <td>Hope this makes sense. You'd understand if you...</td>\n",
       "      <td>1499472000</td>\n",
       "      <td>True</td>\n",
       "      <td>NaN</td>\n",
       "    </tr>\n",
       "    <tr>\n",
       "      <th>6739583</th>\n",
       "      <td>B01HJH42KU</td>\n",
       "      <td>NaN</td>\n",
       "      <td>2</td>\n",
       "      <td>I liked the length and the product at first bu...</td>\n",
       "      <td>05 21, 2017</td>\n",
       "      <td>A12E1JGKV0ETAB</td>\n",
       "      <td>John Adams</td>\n",
       "      <td>NaN</td>\n",
       "      <td>Lost ability to connect.</td>\n",
       "      <td>1495324800</td>\n",
       "      <td>True</td>\n",
       "      <td>NaN</td>\n",
       "    </tr>\n",
       "    <tr>\n",
       "      <th>6739584</th>\n",
       "      <td>B01HJH40WU</td>\n",
       "      <td>NaN</td>\n",
       "      <td>3</td>\n",
       "      <td>not holding up over time :(</td>\n",
       "      <td>06 26, 2017</td>\n",
       "      <td>A1HKXEX8BEQC2E</td>\n",
       "      <td>Dasha stephens</td>\n",
       "      <td>NaN</td>\n",
       "      <td>not holding up over time :(</td>\n",
       "      <td>1498435200</td>\n",
       "      <td>True</td>\n",
       "      <td>NaN</td>\n",
       "    </tr>\n",
       "    <tr>\n",
       "      <th>6739585</th>\n",
       "      <td>B01HJH40WU</td>\n",
       "      <td>NaN</td>\n",
       "      <td>4</td>\n",
       "      <td>These seem like quality USB cables, time will ...</td>\n",
       "      <td>03 21, 2017</td>\n",
       "      <td>A33MAQA919J2V8</td>\n",
       "      <td>Kurt Wurm</td>\n",
       "      <td>NaN</td>\n",
       "      <td>Four Stars</td>\n",
       "      <td>1490054400</td>\n",
       "      <td>True</td>\n",
       "      <td>NaN</td>\n",
       "    </tr>\n",
       "    <tr>\n",
       "      <th>6739586</th>\n",
       "      <td>B01HJH40WU</td>\n",
       "      <td>NaN</td>\n",
       "      <td>4</td>\n",
       "      <td>Works great, love the longer cord. As with any...</td>\n",
       "      <td>01 9, 2017</td>\n",
       "      <td>A1AKHSCPD1BHM4</td>\n",
       "      <td>C.L Momof3</td>\n",
       "      <td>NaN</td>\n",
       "      <td>Nice long cord</td>\n",
       "      <td>1483920000</td>\n",
       "      <td>True</td>\n",
       "      <td>NaN</td>\n",
       "    </tr>\n",
       "    <tr>\n",
       "      <th>6739587</th>\n",
       "      <td>B01HJH40WU</td>\n",
       "      <td>NaN</td>\n",
       "      <td>5</td>\n",
       "      <td>Ok here is an odd thing that happened to me, I...</td>\n",
       "      <td>12 1, 2016</td>\n",
       "      <td>A2HUZO7MQAY5I2</td>\n",
       "      <td>michael clontz</td>\n",
       "      <td>NaN</td>\n",
       "      <td>Not the correct product as linked in the sale.</td>\n",
       "      <td>1480550400</td>\n",
       "      <td>True</td>\n",
       "      <td>2</td>\n",
       "    </tr>\n",
       "    <tr>\n",
       "      <th>6739588</th>\n",
       "      <td>B01HJH40WU</td>\n",
       "      <td>NaN</td>\n",
       "      <td>5</td>\n",
       "      <td>Works well.</td>\n",
       "      <td>11 29, 2016</td>\n",
       "      <td>AJJ7VX2L91X2W</td>\n",
       "      <td>Faith</td>\n",
       "      <td>NaN</td>\n",
       "      <td>Five Stars</td>\n",
       "      <td>1480377600</td>\n",
       "      <td>True</td>\n",
       "      <td>2</td>\n",
       "    </tr>\n",
       "    <tr>\n",
       "      <th>6739589</th>\n",
       "      <td>B01HJF704M</td>\n",
       "      <td>NaN</td>\n",
       "      <td>5</td>\n",
       "      <td>I have it plugged into a usb extension on my g...</td>\n",
       "      <td>03 31, 2017</td>\n",
       "      <td>A1FGCIRPRNZWD5</td>\n",
       "      <td>Brando</td>\n",
       "      <td>NaN</td>\n",
       "      <td>Works well enough..</td>\n",
       "      <td>1490918400</td>\n",
       "      <td>True</td>\n",
       "      <td>NaN</td>\n",
       "    </tr>\n",
       "  </tbody>\n",
       "</table>\n",
       "</div>"
      ],
      "text/plain": [
       "               asin image  overall  \\\n",
       "6739580  B01HJCN1EI   NaN        5   \n",
       "6739581  B01HJCN1EI   NaN        1   \n",
       "6739582  B01HJH42KU   NaN        3   \n",
       "6739583  B01HJH42KU   NaN        2   \n",
       "6739584  B01HJH40WU   NaN        3   \n",
       "6739585  B01HJH40WU   NaN        4   \n",
       "6739586  B01HJH40WU   NaN        4   \n",
       "6739587  B01HJH40WU   NaN        5   \n",
       "6739588  B01HJH40WU   NaN        5   \n",
       "6739589  B01HJF704M   NaN        5   \n",
       "\n",
       "                                                reviewText   reviewTime  \\\n",
       "6739580  These are my favorite charging cords for a few...  07 25, 2017   \n",
       "6739581  Update....after 2 months of gentle use, cable ...   04 4, 2017   \n",
       "6739582  These are okay. The connection becomes very if...   07 8, 2017   \n",
       "6739583  I liked the length and the product at first bu...  05 21, 2017   \n",
       "6739584                        not holding up over time :(  06 26, 2017   \n",
       "6739585  These seem like quality USB cables, time will ...  03 21, 2017   \n",
       "6739586  Works great, love the longer cord. As with any...   01 9, 2017   \n",
       "6739587  Ok here is an odd thing that happened to me, I...   12 1, 2016   \n",
       "6739588                                        Works well.  11 29, 2016   \n",
       "6739589  I have it plugged into a usb extension on my g...  03 31, 2017   \n",
       "\n",
       "             reviewerID       reviewerName style  \\\n",
       "6739580  A1OOVLE2KZ6KGA            Puddzee   NaN   \n",
       "6739581   A77K1B31UAQ29  addictedtoreading   NaN   \n",
       "6739582  A2SVXUVUAWUDK2             Andrew   NaN   \n",
       "6739583  A12E1JGKV0ETAB         John Adams   NaN   \n",
       "6739584  A1HKXEX8BEQC2E     Dasha stephens   NaN   \n",
       "6739585  A33MAQA919J2V8          Kurt Wurm   NaN   \n",
       "6739586  A1AKHSCPD1BHM4         C.L Momof3   NaN   \n",
       "6739587  A2HUZO7MQAY5I2     michael clontz   NaN   \n",
       "6739588   AJJ7VX2L91X2W              Faith   NaN   \n",
       "6739589  A1FGCIRPRNZWD5             Brando   NaN   \n",
       "\n",
       "                                                   summary  unixReviewTime  \\\n",
       "6739580                                   Worth the price.      1500940800   \n",
       "6739581                  UPDATE...BREAKS AND SLOW CHARGING      1491264000   \n",
       "6739582  Hope this makes sense. You'd understand if you...      1499472000   \n",
       "6739583                           Lost ability to connect.      1495324800   \n",
       "6739584                        not holding up over time :(      1498435200   \n",
       "6739585                                         Four Stars      1490054400   \n",
       "6739586                                     Nice long cord      1483920000   \n",
       "6739587     Not the correct product as linked in the sale.      1480550400   \n",
       "6739588                                         Five Stars      1480377600   \n",
       "6739589                                Works well enough..      1490918400   \n",
       "\n",
       "         verified vote  \n",
       "6739580      True  NaN  \n",
       "6739581      True  NaN  \n",
       "6739582      True  NaN  \n",
       "6739583      True  NaN  \n",
       "6739584      True  NaN  \n",
       "6739585      True  NaN  \n",
       "6739586      True  NaN  \n",
       "6739587      True    2  \n",
       "6739588      True    2  \n",
       "6739589      True  NaN  "
      ]
     },
     "metadata": {},
     "output_type": "display_data"
    }
   ],
   "source": [
    "import os\n",
    "import pandas as pd\n",
    "\n",
    "dataset = \"Electronics_5.json\"\n",
    "df = pd.read_json(\"Electronics_5.json\", lines=True)\n",
    "\n",
    "#df = pd.read_csv(\"mini_x_train.csv\") \n",
    "\n",
    "display(df.tail())"
   ]
  },
  {
   "cell_type": "code",
   "execution_count": 3,
   "metadata": {},
   "outputs": [
    {
     "name": "stdout",
     "output_type": "stream",
     "text": [
      "<class 'pandas.core.frame.DataFrame'>\n",
      "RangeIndex: 6739590 entries, 0 to 6739589\n",
      "Data columns (total 12 columns):\n",
      "asin              object\n",
      "image             object\n",
      "overall           int64\n",
      "reviewText        object\n",
      "reviewTime        object\n",
      "reviewerID        object\n",
      "reviewerName      object\n",
      "style             object\n",
      "summary           object\n",
      "unixReviewTime    int64\n",
      "verified          bool\n",
      "vote              object\n",
      "dtypes: bool(1), int64(2), object(9)\n",
      "memory usage: 572.0+ MB\n",
      "None\n"
     ]
    }
   ],
   "source": [
    "print(df.info())"
   ]
  },
  {
   "cell_type": "code",
   "execution_count": 7,
   "metadata": {},
   "outputs": [
    {
     "ename": "TypeError",
     "evalue": "an integer is required (got type str)",
     "output_type": "error",
     "traceback": [
      "\u001b[1;31m---------------------------------------------------------------------------\u001b[0m",
      "\u001b[1;31mTypeError\u001b[0m                                 Traceback (most recent call last)",
      "\u001b[1;32m<ipython-input-7-1655ada4cd2d>\u001b[0m in \u001b[0;36m<module>\u001b[1;34m()\u001b[0m\n\u001b[0;32m      2\u001b[0m \u001b[1;33m\u001b[0m\u001b[0m\n\u001b[0;32m      3\u001b[0m \u001b[0mcondition\u001b[0m \u001b[1;33m=\u001b[0m \u001b[1;32mlambda\u001b[0m \u001b[0mrow\u001b[0m\u001b[1;33m:\u001b[0m \u001b[0mdatetime\u001b[0m\u001b[1;33m.\u001b[0m\u001b[0mfromtimestamp\u001b[0m\u001b[1;33m(\u001b[0m\u001b[0mrow\u001b[0m\u001b[1;33m)\u001b[0m\u001b[1;33m.\u001b[0m\u001b[0mstrftime\u001b[0m\u001b[1;33m(\u001b[0m\u001b[1;34m\"%m-%d-%Y\"\u001b[0m\u001b[1;33m)\u001b[0m\u001b[1;33m\u001b[0m\u001b[0m\n\u001b[1;32m----> 4\u001b[1;33m \u001b[0mdf\u001b[0m\u001b[1;33m[\u001b[0m\u001b[1;34m\"unixReviewTime\"\u001b[0m\u001b[1;33m]\u001b[0m \u001b[1;33m=\u001b[0m \u001b[0mdf\u001b[0m\u001b[1;33m[\u001b[0m\u001b[1;34m\"unixReviewTime\"\u001b[0m\u001b[1;33m]\u001b[0m\u001b[1;33m.\u001b[0m\u001b[0mapply\u001b[0m\u001b[1;33m(\u001b[0m\u001b[0mcondition\u001b[0m\u001b[1;33m)\u001b[0m\u001b[1;33m\u001b[0m\u001b[0m\n\u001b[0m",
      "\u001b[1;32m~\\AppData\\Local\\Continuum\\anaconda3\\lib\\site-packages\\pandas\\core\\series.py\u001b[0m in \u001b[0;36mapply\u001b[1;34m(self, func, convert_dtype, args, **kwds)\u001b[0m\n\u001b[0;32m   3190\u001b[0m             \u001b[1;32melse\u001b[0m\u001b[1;33m:\u001b[0m\u001b[1;33m\u001b[0m\u001b[0m\n\u001b[0;32m   3191\u001b[0m                 \u001b[0mvalues\u001b[0m \u001b[1;33m=\u001b[0m \u001b[0mself\u001b[0m\u001b[1;33m.\u001b[0m\u001b[0mastype\u001b[0m\u001b[1;33m(\u001b[0m\u001b[0mobject\u001b[0m\u001b[1;33m)\u001b[0m\u001b[1;33m.\u001b[0m\u001b[0mvalues\u001b[0m\u001b[1;33m\u001b[0m\u001b[0m\n\u001b[1;32m-> 3192\u001b[1;33m                 \u001b[0mmapped\u001b[0m \u001b[1;33m=\u001b[0m \u001b[0mlib\u001b[0m\u001b[1;33m.\u001b[0m\u001b[0mmap_infer\u001b[0m\u001b[1;33m(\u001b[0m\u001b[0mvalues\u001b[0m\u001b[1;33m,\u001b[0m \u001b[0mf\u001b[0m\u001b[1;33m,\u001b[0m \u001b[0mconvert\u001b[0m\u001b[1;33m=\u001b[0m\u001b[0mconvert_dtype\u001b[0m\u001b[1;33m)\u001b[0m\u001b[1;33m\u001b[0m\u001b[0m\n\u001b[0m\u001b[0;32m   3193\u001b[0m \u001b[1;33m\u001b[0m\u001b[0m\n\u001b[0;32m   3194\u001b[0m         \u001b[1;32mif\u001b[0m \u001b[0mlen\u001b[0m\u001b[1;33m(\u001b[0m\u001b[0mmapped\u001b[0m\u001b[1;33m)\u001b[0m \u001b[1;32mand\u001b[0m \u001b[0misinstance\u001b[0m\u001b[1;33m(\u001b[0m\u001b[0mmapped\u001b[0m\u001b[1;33m[\u001b[0m\u001b[1;36m0\u001b[0m\u001b[1;33m]\u001b[0m\u001b[1;33m,\u001b[0m \u001b[0mSeries\u001b[0m\u001b[1;33m)\u001b[0m\u001b[1;33m:\u001b[0m\u001b[1;33m\u001b[0m\u001b[0m\n",
      "\u001b[1;32mpandas/_libs/src\\inference.pyx\u001b[0m in \u001b[0;36mpandas._libs.lib.map_infer\u001b[1;34m()\u001b[0m\n",
      "\u001b[1;32m<ipython-input-7-1655ada4cd2d>\u001b[0m in \u001b[0;36m<lambda>\u001b[1;34m(row)\u001b[0m\n\u001b[0;32m      1\u001b[0m \u001b[1;32mfrom\u001b[0m \u001b[0mdatetime\u001b[0m \u001b[1;32mimport\u001b[0m \u001b[0mdatetime\u001b[0m\u001b[1;33m\u001b[0m\u001b[0m\n\u001b[0;32m      2\u001b[0m \u001b[1;33m\u001b[0m\u001b[0m\n\u001b[1;32m----> 3\u001b[1;33m \u001b[0mcondition\u001b[0m \u001b[1;33m=\u001b[0m \u001b[1;32mlambda\u001b[0m \u001b[0mrow\u001b[0m\u001b[1;33m:\u001b[0m \u001b[0mdatetime\u001b[0m\u001b[1;33m.\u001b[0m\u001b[0mfromtimestamp\u001b[0m\u001b[1;33m(\u001b[0m\u001b[0mrow\u001b[0m\u001b[1;33m)\u001b[0m\u001b[1;33m.\u001b[0m\u001b[0mstrftime\u001b[0m\u001b[1;33m(\u001b[0m\u001b[1;34m\"%m-%d-%Y\"\u001b[0m\u001b[1;33m)\u001b[0m\u001b[1;33m\u001b[0m\u001b[0m\n\u001b[0m\u001b[0;32m      4\u001b[0m \u001b[0mdf\u001b[0m\u001b[1;33m[\u001b[0m\u001b[1;34m\"unixReviewTime\"\u001b[0m\u001b[1;33m]\u001b[0m \u001b[1;33m=\u001b[0m \u001b[0mdf\u001b[0m\u001b[1;33m[\u001b[0m\u001b[1;34m\"unixReviewTime\"\u001b[0m\u001b[1;33m]\u001b[0m\u001b[1;33m.\u001b[0m\u001b[0mapply\u001b[0m\u001b[1;33m(\u001b[0m\u001b[0mcondition\u001b[0m\u001b[1;33m)\u001b[0m\u001b[1;33m\u001b[0m\u001b[0m\n",
      "\u001b[1;31mTypeError\u001b[0m: an integer is required (got type str)"
     ]
    }
   ],
   "source": [
    "from datetime import datetime\n",
    "\n",
    "condition = lambda row: datetime.fromtimestamp(row).strftime(\"%m-%d-%Y\")\n",
    "df[\"unixReviewTime\"] = df[\"unixReviewTime\"].apply(condition)"
   ]
  },
  {
   "cell_type": "code",
   "execution_count": 6,
   "metadata": {},
   "outputs": [
    {
     "ename": "KeyError",
     "evalue": "\"labels ['reviewTime'] not contained in axis\"",
     "output_type": "error",
     "traceback": [
      "\u001b[1;31m---------------------------------------------------------------------------\u001b[0m",
      "\u001b[1;31mKeyError\u001b[0m                                  Traceback (most recent call last)",
      "\u001b[1;32m<ipython-input-6-87a2712ee22b>\u001b[0m in \u001b[0;36m<module>\u001b[1;34m()\u001b[0m\n\u001b[1;32m----> 1\u001b[1;33m \u001b[0mdf\u001b[0m\u001b[1;33m.\u001b[0m\u001b[0mdrop\u001b[0m\u001b[1;33m(\u001b[0m\u001b[0mlabels\u001b[0m\u001b[1;33m=\u001b[0m\u001b[1;34m\"reviewTime\"\u001b[0m\u001b[1;33m,\u001b[0m \u001b[0maxis\u001b[0m\u001b[1;33m=\u001b[0m\u001b[1;36m1\u001b[0m\u001b[1;33m,\u001b[0m \u001b[0minplace\u001b[0m\u001b[1;33m=\u001b[0m\u001b[1;32mTrue\u001b[0m\u001b[1;33m)\u001b[0m\u001b[1;33m\u001b[0m\u001b[0m\n\u001b[0m\u001b[0;32m      2\u001b[0m \u001b[1;33m\u001b[0m\u001b[0m\n\u001b[0;32m      3\u001b[0m \u001b[0mdisplay\u001b[0m\u001b[1;33m(\u001b[0m\u001b[0mdf\u001b[0m\u001b[1;33m.\u001b[0m\u001b[0mhead\u001b[0m\u001b[1;33m(\u001b[0m\u001b[1;33m)\u001b[0m\u001b[1;33m)\u001b[0m\u001b[1;33m\u001b[0m\u001b[0m\n",
      "\u001b[1;32m~\\AppData\\Local\\Continuum\\anaconda3\\lib\\site-packages\\pandas\\core\\frame.py\u001b[0m in \u001b[0;36mdrop\u001b[1;34m(self, labels, axis, index, columns, level, inplace, errors)\u001b[0m\n\u001b[0;32m   3692\u001b[0m                                            \u001b[0mindex\u001b[0m\u001b[1;33m=\u001b[0m\u001b[0mindex\u001b[0m\u001b[1;33m,\u001b[0m \u001b[0mcolumns\u001b[0m\u001b[1;33m=\u001b[0m\u001b[0mcolumns\u001b[0m\u001b[1;33m,\u001b[0m\u001b[1;33m\u001b[0m\u001b[0m\n\u001b[0;32m   3693\u001b[0m                                            \u001b[0mlevel\u001b[0m\u001b[1;33m=\u001b[0m\u001b[0mlevel\u001b[0m\u001b[1;33m,\u001b[0m \u001b[0minplace\u001b[0m\u001b[1;33m=\u001b[0m\u001b[0minplace\u001b[0m\u001b[1;33m,\u001b[0m\u001b[1;33m\u001b[0m\u001b[0m\n\u001b[1;32m-> 3694\u001b[1;33m                                            errors=errors)\n\u001b[0m\u001b[0;32m   3695\u001b[0m \u001b[1;33m\u001b[0m\u001b[0m\n\u001b[0;32m   3696\u001b[0m     @rewrite_axis_style_signature('mapper', [('copy', True),\n",
      "\u001b[1;32m~\\AppData\\Local\\Continuum\\anaconda3\\lib\\site-packages\\pandas\\core\\generic.py\u001b[0m in \u001b[0;36mdrop\u001b[1;34m(self, labels, axis, index, columns, level, inplace, errors)\u001b[0m\n\u001b[0;32m   3106\u001b[0m         \u001b[1;32mfor\u001b[0m \u001b[0maxis\u001b[0m\u001b[1;33m,\u001b[0m \u001b[0mlabels\u001b[0m \u001b[1;32min\u001b[0m \u001b[0maxes\u001b[0m\u001b[1;33m.\u001b[0m\u001b[0mitems\u001b[0m\u001b[1;33m(\u001b[0m\u001b[1;33m)\u001b[0m\u001b[1;33m:\u001b[0m\u001b[1;33m\u001b[0m\u001b[0m\n\u001b[0;32m   3107\u001b[0m             \u001b[1;32mif\u001b[0m \u001b[0mlabels\u001b[0m \u001b[1;32mis\u001b[0m \u001b[1;32mnot\u001b[0m \u001b[1;32mNone\u001b[0m\u001b[1;33m:\u001b[0m\u001b[1;33m\u001b[0m\u001b[0m\n\u001b[1;32m-> 3108\u001b[1;33m                 \u001b[0mobj\u001b[0m \u001b[1;33m=\u001b[0m \u001b[0mobj\u001b[0m\u001b[1;33m.\u001b[0m\u001b[0m_drop_axis\u001b[0m\u001b[1;33m(\u001b[0m\u001b[0mlabels\u001b[0m\u001b[1;33m,\u001b[0m \u001b[0maxis\u001b[0m\u001b[1;33m,\u001b[0m \u001b[0mlevel\u001b[0m\u001b[1;33m=\u001b[0m\u001b[0mlevel\u001b[0m\u001b[1;33m,\u001b[0m \u001b[0merrors\u001b[0m\u001b[1;33m=\u001b[0m\u001b[0merrors\u001b[0m\u001b[1;33m)\u001b[0m\u001b[1;33m\u001b[0m\u001b[0m\n\u001b[0m\u001b[0;32m   3109\u001b[0m \u001b[1;33m\u001b[0m\u001b[0m\n\u001b[0;32m   3110\u001b[0m         \u001b[1;32mif\u001b[0m \u001b[0minplace\u001b[0m\u001b[1;33m:\u001b[0m\u001b[1;33m\u001b[0m\u001b[0m\n",
      "\u001b[1;32m~\\AppData\\Local\\Continuum\\anaconda3\\lib\\site-packages\\pandas\\core\\generic.py\u001b[0m in \u001b[0;36m_drop_axis\u001b[1;34m(self, labels, axis, level, errors)\u001b[0m\n\u001b[0;32m   3138\u001b[0m                 \u001b[0mnew_axis\u001b[0m \u001b[1;33m=\u001b[0m \u001b[0maxis\u001b[0m\u001b[1;33m.\u001b[0m\u001b[0mdrop\u001b[0m\u001b[1;33m(\u001b[0m\u001b[0mlabels\u001b[0m\u001b[1;33m,\u001b[0m \u001b[0mlevel\u001b[0m\u001b[1;33m=\u001b[0m\u001b[0mlevel\u001b[0m\u001b[1;33m,\u001b[0m \u001b[0merrors\u001b[0m\u001b[1;33m=\u001b[0m\u001b[0merrors\u001b[0m\u001b[1;33m)\u001b[0m\u001b[1;33m\u001b[0m\u001b[0m\n\u001b[0;32m   3139\u001b[0m             \u001b[1;32melse\u001b[0m\u001b[1;33m:\u001b[0m\u001b[1;33m\u001b[0m\u001b[0m\n\u001b[1;32m-> 3140\u001b[1;33m                 \u001b[0mnew_axis\u001b[0m \u001b[1;33m=\u001b[0m \u001b[0maxis\u001b[0m\u001b[1;33m.\u001b[0m\u001b[0mdrop\u001b[0m\u001b[1;33m(\u001b[0m\u001b[0mlabels\u001b[0m\u001b[1;33m,\u001b[0m \u001b[0merrors\u001b[0m\u001b[1;33m=\u001b[0m\u001b[0merrors\u001b[0m\u001b[1;33m)\u001b[0m\u001b[1;33m\u001b[0m\u001b[0m\n\u001b[0m\u001b[0;32m   3141\u001b[0m             \u001b[0mdropped\u001b[0m \u001b[1;33m=\u001b[0m \u001b[0mself\u001b[0m\u001b[1;33m.\u001b[0m\u001b[0mreindex\u001b[0m\u001b[1;33m(\u001b[0m\u001b[1;33m**\u001b[0m\u001b[1;33m{\u001b[0m\u001b[0maxis_name\u001b[0m\u001b[1;33m:\u001b[0m \u001b[0mnew_axis\u001b[0m\u001b[1;33m}\u001b[0m\u001b[1;33m)\u001b[0m\u001b[1;33m\u001b[0m\u001b[0m\n\u001b[0;32m   3142\u001b[0m             \u001b[1;32mtry\u001b[0m\u001b[1;33m:\u001b[0m\u001b[1;33m\u001b[0m\u001b[0m\n",
      "\u001b[1;32m~\\AppData\\Local\\Continuum\\anaconda3\\lib\\site-packages\\pandas\\core\\indexes\\base.py\u001b[0m in \u001b[0;36mdrop\u001b[1;34m(self, labels, errors)\u001b[0m\n\u001b[0;32m   4385\u001b[0m             \u001b[1;32mif\u001b[0m \u001b[0merrors\u001b[0m \u001b[1;33m!=\u001b[0m \u001b[1;34m'ignore'\u001b[0m\u001b[1;33m:\u001b[0m\u001b[1;33m\u001b[0m\u001b[0m\n\u001b[0;32m   4386\u001b[0m                 raise KeyError(\n\u001b[1;32m-> 4387\u001b[1;33m                     'labels %s not contained in axis' % labels[mask])\n\u001b[0m\u001b[0;32m   4388\u001b[0m             \u001b[0mindexer\u001b[0m \u001b[1;33m=\u001b[0m \u001b[0mindexer\u001b[0m\u001b[1;33m[\u001b[0m\u001b[1;33m~\u001b[0m\u001b[0mmask\u001b[0m\u001b[1;33m]\u001b[0m\u001b[1;33m\u001b[0m\u001b[0m\n\u001b[0;32m   4389\u001b[0m         \u001b[1;32mreturn\u001b[0m \u001b[0mself\u001b[0m\u001b[1;33m.\u001b[0m\u001b[0mdelete\u001b[0m\u001b[1;33m(\u001b[0m\u001b[0mindexer\u001b[0m\u001b[1;33m)\u001b[0m\u001b[1;33m\u001b[0m\u001b[0m\n",
      "\u001b[1;31mKeyError\u001b[0m: \"labels ['reviewTime'] not contained in axis\""
     ]
    }
   ],
   "source": [
    "df.drop(labels=\"reviewTime\", axis=1, inplace=True)\n",
    "\n",
    "display(df.head())"
   ]
  },
  {
   "cell_type": "code",
   "execution_count": 8,
   "metadata": {},
   "outputs": [
    {
     "name": "stdout",
     "output_type": "stream",
     "text": [
      "This is the best novel I have read in 2 or 3 years.  It is everything that fiction should be -- beautifully written, engaging, well-plotted and structured.  It has several layers of meanings -- historical, family,  philosophical and more -- and blends them all skillfully and interestingly.  It makes the American grad student/writers' workshop \"my parents were  mean to me and then my professors were mean to me\" trivia look  childish and silly by comparison, as they are.\n",
      "Anyone who says this is an  adolescent girl's coming of age story is trivializing it.  Ignore them.  Read this book if you love literature.\n",
      "I was particularly impressed with  this young author's grasp of the meaning and texture of the lost world of  French Algeria in the 1950's and '60's...particularly poignant when read in  1999 from another ruined and abandoned French colony, amid the decaying  buildings of Phnom Penh...\n",
      "I hope the author will write many more books  and that her publishers will bring her first novel back into print -- I  want to read it.  Thank you, Ms. Messud, for writing such a wonderful work.\n"
     ]
    }
   ],
   "source": [
    "print(df[\"reviewText\"].iloc[0])"
   ]
  },
  {
   "cell_type": "code",
   "execution_count": 9,
   "metadata": {},
   "outputs": [
    {
     "name": "stdout",
     "output_type": "stream",
     "text": [
      "[5 3 4 2 1]\n"
     ]
    }
   ],
   "source": [
    "print(df.overall.unique())"
   ]
  },
  {
   "cell_type": "code",
   "execution_count": 10,
   "metadata": {},
   "outputs": [
    {
     "name": "stdout",
     "output_type": "stream",
     "text": [
      "Del sistema digital anexo pros y contras\n",
      "- Muy bueno porque reduce la necesidad de instalaciones\n",
      "- Opera con varios equipos\n",
      "- El tamao es adecuado\n",
      "\n",
      "- Si hay variacion de voltaje la velocidad se ve mermada\n",
      "- El cable de alimentacion es muy corto (que se puede conseguir)\n",
      "\n",
      "En terminos generales estoy satisfecho\n"
     ]
    }
   ],
   "source": [
    "sample_review = df[\"reviewText\"].iloc[1689185]\n",
    "print(sample_review)"
   ]
  },
  {
   "cell_type": "code",
   "execution_count": 11,
   "metadata": {},
   "outputs": [
    {
     "name": "stdout",
     "output_type": "stream",
     "text": [
      "Del sistema digital anexo pros y contras\n",
      "- Muy bueno porque reduce la necesidad de instalaciones\n",
      "- Opera con varios equipos\n",
      "- El tamao es adecuado\n",
      "\n",
      "- Si hay variacion de voltaje la velocidad se ve mermada\n",
      "- El cable de alimentacion es muy corto (que se puede conseguir)\n",
      "\n",
      "En terminos generales estoy satisfecho\n"
     ]
    }
   ],
   "source": [
    "import html\n",
    "\n",
    "decoded_review = html.unescape(sample_review)\n",
    "print(decoded_review)"
   ]
  },
  {
   "cell_type": "code",
   "execution_count": 12,
   "metadata": {},
   "outputs": [
    {
     "name": "stdout",
     "output_type": "stream",
     "text": [
      "Data Shape:  (6739590, 11)\n",
      "Data Shape Dropping Observations with NA for the Review Text:  (6738237, 11)\n"
     ]
    }
   ],
   "source": [
    "print(\"Data Shape: \",df.shape)\n",
    "no_NA_reviews = df.dropna(subset=['reviewText'])\n",
    "print(\"Data Shape Dropping Observations with NA for the Review Text: \", no_NA_reviews.shape)"
   ]
  },
  {
   "cell_type": "code",
   "execution_count": 13,
   "metadata": {},
   "outputs": [],
   "source": [
    "#split the data into training and testing data, using \"overall\" as the target variable\n",
    "y=no_NA_reviews.overall\n",
    "x=no_NA_reviews.drop('overall',axis=1)"
   ]
  },
  {
   "cell_type": "code",
   "execution_count": 19,
   "metadata": {},
   "outputs": [],
   "source": [
    "from sklearn.model_selection import train_test_split\n",
    "\n",
    "#x_train,x_test,y_train,y_test=train_test_split(x,y,test_size=0.2)\n",
    "#mini_x_train,mini_x_test,mini_y_train,mini_y_test=train_test_split(x,y,test_size=0.9999)\n",
    "\n",
    "#df_mini= no_NA_reviews.sample(n=600)\n",
    "#df_mini.shape\n",
    "#df_mini.to_csv(r'C:\\Users\\jrmah\\Desktop\\datasci-w266-finalProject\\df_mini.csv')\n",
    "\n",
    "asin_subset = no_NA_reviews[(no_NA_reviews.asin == \"B01HJCN1EI\") | (no_NA_reviews.asin == \"B01HJH42KU\") | \n",
    "                            (no_NA_reviews.asin == \"B01HJH40WU\") | (no_NA_reviews.asin == \"B01HJF704M\") | \n",
    "                           (no_NA_reviews.asin == \"B01HJCN5GC\") | (no_NA_reviews.asin == \"B01HJCN5TO\") |\n",
    "                           (no_NA_reviews.asin == \"B01HJDNL60\") | (no_NA_reviews.asin == \"B01HJDR9DQ\") |\n",
    "                           (no_NA_reviews.asin == \"B01HJFFHTC\") | (no_NA_reviews.asin == \"B01HJCN1EI\")]\n"
   ]
  },
  {
   "cell_type": "code",
   "execution_count": 24,
   "metadata": {},
   "outputs": [],
   "source": [
    "asin_subset.to_csv(r'C:\\Users\\jrmah\\Desktop\\datasci-w266-finalProject\\asin_subset.csv')\n",
    "#no_NA_reviews.tail()"
   ]
  },
  {
   "cell_type": "code",
   "execution_count": 25,
   "metadata": {},
   "outputs": [],
   "source": [
    "asin_subset.shape\n",
    "#asin_subset.head()\n",
    "#df_mini = pd.read_csv(\"df_mini.csv\")\n",
    "asin_subset = pd.read_csv(\"asin_subset.csv\")"
   ]
  },
  {
   "cell_type": "code",
   "execution_count": 26,
   "metadata": {},
   "outputs": [],
   "source": [
    "#print(df_mini.shape)\n",
    "#x_train = df_mini\n",
    "x_train = asin_subset"
   ]
  },
  {
   "cell_type": "markdown",
   "metadata": {},
   "source": [
    "### Text Encoding using Universal Sentence Encoder\n",
    "\n",
    "In the subsequent code cells, we load the Universal Sentence Encoder (USE), break the data into training and testing data, and apply the USE to the data. "
   ]
  },
  {
   "cell_type": "code",
   "execution_count": null,
   "metadata": {},
   "outputs": [],
   "source": [
    "# Remove ## from lines starting with ! and run them the first time to install necessary packages \n",
    "\n",
    "##%%capture\n",
    "# Install the latest Tensorflow version.\n",
    "##!pip3 install --upgrade tensorflow-gpu\n",
    "# Install TF-Hub.\n",
    "##!pip3 install tensorflow-hub\n",
    "##!pip3 install seaborn\n"
   ]
  },
  {
   "cell_type": "code",
   "execution_count": 20,
   "metadata": {},
   "outputs": [
    {
     "name": "stdout",
     "output_type": "stream",
     "text": [
      "WARNING:tensorflow:From C:\\Users\\jrmah\\AppData\\Roaming\\Python\\Python36\\site-packages\\tensorflow_core\\python\\ops\\resource_variable_ops.py:1781: calling BaseResourceVariable.__init__ (from tensorflow.python.ops.resource_variable_ops) with constraint is deprecated and will be removed in a future version.\n",
      "Instructions for updating:\n",
      "If using Keras pass *_constraint arguments to layers.\n"
     ]
    },
    {
     "name": "stderr",
     "output_type": "stream",
     "text": [
      "WARNING:tensorflow:From C:\\Users\\jrmah\\AppData\\Roaming\\Python\\Python36\\site-packages\\tensorflow_core\\python\\ops\\resource_variable_ops.py:1781: calling BaseResourceVariable.__init__ (from tensorflow.python.ops.resource_variable_ops) with constraint is deprecated and will be removed in a future version.\n",
      "Instructions for updating:\n",
      "If using Keras pass *_constraint arguments to layers.\n"
     ]
    },
    {
     "name": "stdout",
     "output_type": "stream",
     "text": [
      "module https://tfhub.dev/google/universal-sentence-encoder/4 loaded\n"
     ]
    }
   ],
   "source": [
    "#@title Load the Universal Sentence Encoder's TF Hub module\n",
    "from absl import logging\n",
    "\n",
    "import tensorflow as tf\n",
    "import tensorflow_hub as hub\n",
    "import matplotlib.pyplot as plt\n",
    "import numpy as np\n",
    "import os\n",
    "import pandas as pd\n",
    "import re\n",
    "import seaborn as sns\n",
    "\n",
    "module_url = \"https://tfhub.dev/google/universal-sentence-encoder/4\" #@param [\"https://tfhub.dev/google/universal-sentence-encoder/4\", \"https://tfhub.dev/google/universal-sentence-encoder-large/5\"]\n",
    "model = hub.load(module_url)\n",
    "print (\"module %s loaded\" % module_url)\n",
    "def embed(input):\n",
    "  return model(input)"
   ]
  },
  {
   "cell_type": "code",
   "execution_count": 50,
   "metadata": {},
   "outputs": [],
   "source": [
    "#create embeddings on the training data \n",
    "logging.set_verbosity(logging.ERROR)\n",
    "#message_embeddings = embed(x_train.reviewText)\n",
    "message_embeddings = embed(x_train.reviewText)"
   ]
  },
  {
   "cell_type": "code",
   "execution_count": 51,
   "metadata": {},
   "outputs": [
    {
     "name": "stdout",
     "output_type": "stream",
     "text": [
      "Training X Shape (600, 12)\n"
     ]
    }
   ],
   "source": [
    "print(\"Training X Shape\", x_train.shape)\n",
    "#print(\"Testing X Shape\", x_test.shape)"
   ]
  },
  {
   "cell_type": "code",
   "execution_count": 52,
   "metadata": {},
   "outputs": [
    {
     "data": {
      "text/html": [
       "<div>\n",
       "<style scoped>\n",
       "    .dataframe tbody tr th:only-of-type {\n",
       "        vertical-align: middle;\n",
       "    }\n",
       "\n",
       "    .dataframe tbody tr th {\n",
       "        vertical-align: top;\n",
       "    }\n",
       "\n",
       "    .dataframe thead th {\n",
       "        text-align: right;\n",
       "    }\n",
       "</style>\n",
       "<table border=\"1\" class=\"dataframe\">\n",
       "  <thead>\n",
       "    <tr style=\"text-align: right;\">\n",
       "      <th></th>\n",
       "      <th>Unnamed: 0</th>\n",
       "      <th>asin</th>\n",
       "      <th>image</th>\n",
       "      <th>overall</th>\n",
       "      <th>reviewText</th>\n",
       "      <th>reviewerID</th>\n",
       "      <th>reviewerName</th>\n",
       "      <th>style</th>\n",
       "      <th>summary</th>\n",
       "      <th>unixReviewTime</th>\n",
       "      <th>verified</th>\n",
       "      <th>vote</th>\n",
       "    </tr>\n",
       "  </thead>\n",
       "  <tbody>\n",
       "    <tr>\n",
       "      <th>0</th>\n",
       "      <td>5798772</td>\n",
       "      <td>B01AJP4VIC</td>\n",
       "      <td>NaN</td>\n",
       "      <td>4</td>\n",
       "      <td>Good product... I like the blue color for it.</td>\n",
       "      <td>A282XABZ9J36WT</td>\n",
       "      <td>Ghamesh Nirav</td>\n",
       "      <td>{'Color:': ' 03-Navy Blue'}</td>\n",
       "      <td>Nice blue</td>\n",
       "      <td>07-30-2016</td>\n",
       "      <td>True</td>\n",
       "      <td>NaN</td>\n",
       "    </tr>\n",
       "    <tr>\n",
       "      <th>1</th>\n",
       "      <td>57666</td>\n",
       "      <td>B00005ATMK</td>\n",
       "      <td>NaN</td>\n",
       "      <td>5</td>\n",
       "      <td>A great carrying case for my cd collection!  G...</td>\n",
       "      <td>A2CQ7MZ33V6A85</td>\n",
       "      <td>Eddy</td>\n",
       "      <td>NaN</td>\n",
       "      <td>Five Stars</td>\n",
       "      <td>01-04-2015</td>\n",
       "      <td>True</td>\n",
       "      <td>NaN</td>\n",
       "    </tr>\n",
       "    <tr>\n",
       "      <th>2</th>\n",
       "      <td>752709</td>\n",
       "      <td>B000YJBL78</td>\n",
       "      <td>NaN</td>\n",
       "      <td>1</td>\n",
       "      <td>Windows XP blue screen of death killed my comp...</td>\n",
       "      <td>A3TBMAWIIHKHFN</td>\n",
       "      <td>Willie V. Hughes</td>\n",
       "      <td>{'Size:': ' USB 2.0', 'Color:': ' Black'}</td>\n",
       "      <td>Chinese junk works with a little tinkering</td>\n",
       "      <td>01-06-2012</td>\n",
       "      <td>True</td>\n",
       "      <td>3.0</td>\n",
       "    </tr>\n",
       "    <tr>\n",
       "      <th>3</th>\n",
       "      <td>4818741</td>\n",
       "      <td>B00PU3YI50</td>\n",
       "      <td>NaN</td>\n",
       "      <td>5</td>\n",
       "      <td>Good sound compare to its size.  Have not trie...</td>\n",
       "      <td>A1H6AFQQCYBH6D</td>\n",
       "      <td>Dr. J. KIM</td>\n",
       "      <td>{'Color:': ' Bluetooth Speaker'}</td>\n",
       "      <td>Good sound compare to its size</td>\n",
       "      <td>01-04-2017</td>\n",
       "      <td>True</td>\n",
       "      <td>NaN</td>\n",
       "    </tr>\n",
       "    <tr>\n",
       "      <th>4</th>\n",
       "      <td>1799838</td>\n",
       "      <td>B0049WJWJ0</td>\n",
       "      <td>NaN</td>\n",
       "      <td>5</td>\n",
       "      <td>Great purchase great camera. I wish I would ha...</td>\n",
       "      <td>A2YK0PKF66CY5Y</td>\n",
       "      <td>Charley</td>\n",
       "      <td>{'Configuration:': ' US Version', 'Style:': ' ...</td>\n",
       "      <td>Five Stars</td>\n",
       "      <td>02-13-2017</td>\n",
       "      <td>True</td>\n",
       "      <td>NaN</td>\n",
       "    </tr>\n",
       "  </tbody>\n",
       "</table>\n",
       "</div>"
      ],
      "text/plain": [
       "   Unnamed: 0        asin image  overall  \\\n",
       "0     5798772  B01AJP4VIC   NaN        4   \n",
       "1       57666  B00005ATMK   NaN        5   \n",
       "2      752709  B000YJBL78   NaN        1   \n",
       "3     4818741  B00PU3YI50   NaN        5   \n",
       "4     1799838  B0049WJWJ0   NaN        5   \n",
       "\n",
       "                                          reviewText      reviewerID  \\\n",
       "0      Good product... I like the blue color for it.  A282XABZ9J36WT   \n",
       "1  A great carrying case for my cd collection!  G...  A2CQ7MZ33V6A85   \n",
       "2  Windows XP blue screen of death killed my comp...  A3TBMAWIIHKHFN   \n",
       "3  Good sound compare to its size.  Have not trie...  A1H6AFQQCYBH6D   \n",
       "4  Great purchase great camera. I wish I would ha...  A2YK0PKF66CY5Y   \n",
       "\n",
       "       reviewerName                                              style  \\\n",
       "0     Ghamesh Nirav                        {'Color:': ' 03-Navy Blue'}   \n",
       "1              Eddy                                                NaN   \n",
       "2  Willie V. Hughes          {'Size:': ' USB 2.0', 'Color:': ' Black'}   \n",
       "3        Dr. J. KIM                   {'Color:': ' Bluetooth Speaker'}   \n",
       "4           Charley  {'Configuration:': ' US Version', 'Style:': ' ...   \n",
       "\n",
       "                                      summary unixReviewTime  verified  vote  \n",
       "0                                   Nice blue     07-30-2016      True   NaN  \n",
       "1                                  Five Stars     01-04-2015      True   NaN  \n",
       "2  Chinese junk works with a little tinkering     01-06-2012      True   3.0  \n",
       "3              Good sound compare to its size     01-04-2017      True   NaN  \n",
       "4                                  Five Stars     02-13-2017      True   NaN  "
      ]
     },
     "execution_count": 52,
     "metadata": {},
     "output_type": "execute_result"
    }
   ],
   "source": [
    "x_train.head()"
   ]
  },
  {
   "cell_type": "code",
   "execution_count": 53,
   "metadata": {},
   "outputs": [
    {
     "data": {
      "text/plain": [
       "<tf.Tensor 'strided_slice:0' shape=(512,) dtype=float32>"
      ]
     },
     "execution_count": 53,
     "metadata": {},
     "output_type": "execute_result"
    }
   ],
   "source": [
    "message_embeddings[0]"
   ]
  },
  {
   "cell_type": "markdown",
   "metadata": {},
   "source": [
    "## Stanford POS Tagger to Find Product Attributes\n",
    "\n",
    "We use the Stanford POS tagger to find the most common nouns used in product reviews for each product ID (ASIN). Then we use the most common nouns as product attributes. "
   ]
  },
  {
   "cell_type": "code",
   "execution_count": null,
   "metadata": {},
   "outputs": [],
   "source": [
    "#!python -m pip install --upgrade pip\n",
    "#!pip install torch\n",
    "#!pip install stanfordnlp"
   ]
  },
  {
   "cell_type": "code",
   "execution_count": 34,
   "metadata": {},
   "outputs": [],
   "source": [
    "# need to install java (unless you already have it installed) \n",
    "# and update the path to where ever it is stored on your computer\n",
    "import os\n",
    "java_path = \"C:/Program Files/Java/jre1.8.0_241/bin/java.exe\"\n",
    "os.environ['JAVAHOME'] = java_path\n",
    "\n",
    "# need to follow instructions to install Stanford POS tagger here: \n",
    "# https://phitchuria.wordpress.com/2018/09/29/python-nltk-using-stanford-pos-tagger-in-nltk-on-windows/\n",
    "from nltk.tag import StanfordPOSTagger\n",
    "from nltk.corpus import stopwords\n",
    "stanford_dir = \"C:\\Stanford\\stanford-postagger-2018-10-16\"\n",
    "modelfile = stanford_dir+\"\\models\\english-bidirectional-distsim.tagger\"\n",
    "jarfile=stanford_dir+\"\\stanford-postagger.jar\"\n",
    "\n",
    "tagger=StanfordPOSTagger(model_filename=modelfile, path_to_jar=jarfile)"
   ]
  },
  {
   "cell_type": "code",
   "execution_count": 45,
   "metadata": {},
   "outputs": [],
   "source": [
    "freq_dist={}\n",
    "for i in range(1,len(x_train)): \n",
    "#for i in range(1,10): \n",
    "    tagged_POS = tagger.tag(x_train.reviewText[i].split())\n",
    "    for word,tag in tagged_POS:\n",
    "        if tag == 'NN' or tag == 'NNS':\n",
    "            if word in freq_dist:\n",
    "                freq_dist[word] += 1\n",
    "            else:\n",
    "                freq_dist[word] = 1\n"
   ]
  },
  {
   "cell_type": "code",
   "execution_count": 48,
   "metadata": {},
   "outputs": [
    {
     "name": "stdout",
     "output_type": "stream",
     "text": [
      "{'lots': 1, 'extension.': 1, 'family': 1, 'members': 1, 'rose': 1, 'gold': 1, 'bubblegum': 1, 'issues': 1, 'pop': 1, 'staying': 1, 'cabel.': 1, 'cording': 1, 'wires': 1, 'breaking,': 1, 'too.': 1, 'purchased!': 1, \"Can't\": 1, 'bump': 1, 'stiff': 1, 'replacement.': 1, 'better.': 1, 'either.': 1, 'green': 1, 'ladies': 1, 'places.': 1, 'fear': 1, 'bend': 1, 'bleep': 1, 'connection.': 1, '(hear)': 1, \"you'\": 1, '(Kindle)': 1, 'a.m.': 1, 'morning.': 1, 'thanks': 1, 'fits': 1, 'tablet': 1, 'battery.': 1, 'room': 1, 'soft,': 1, 'deform....bought': 1, 'case....I': 1, 'reviews': 1, 'pay': 1, 'attention....one': 1, 'functioning.....the': 1, 'position...it': 1, 'fire....I': 1, 'package': 1, 'green,': 1, 'charger!': 1, 'Camera,': 1, 'Im': 1, 'GoPro.': 1, '1080P': 1, 'HDR,': 1, 'par': 1, 'resolution,': 1, 'video.': 1, 'there,': 1, 'operation.': 1, 'NT96650': 1, 'AR0330': 1, 'CMOS': 1, 'sizes': 1, 'monitor': 1, 'systems.': 1, 'R2,': 1, 'Mini': 1, 'look': 1, 'clips': 1, 'sure.': 1, 'Folder': 1, 'folder.': 1, 'emergency': 1, 'ability': 1, 'recording,': 1, '12MP': 1, 'nuts': 1, 'code': 1, 'version': 1, 'file': 1, 'head': 1, 'upgrade': 1, 'V1': 1, 'V2.': 1, 'slot': 1, 'easily,': 1, 'all,': 1, 'out.': 1, 'G-sensor': 1, '150mAh.': 1, 'dirt': 1, 'cheap': 1, 'premium': 1, 'R2.': 1, 'difference.': 1, '64GB': 1, 'FAT32,': 1, 'latency': 1, 'bells': 1, 'whistles': 1, 'point.': 1, 'brother': 1, 'terms': 1, 'GUI': 1, 'interface': 1, 'transition': 1, 'seamless.': 1, 'footprint': 1, 'questions': 1, 'Vantrue': 1, 'A1': 1, 'size.': 1, 'value': 1, 'aluminum': 1, 'thats': 1, 'handling': 1, 'heat': 1, 'though.': 1, 'camera,': 1, 'series': 1, \"microSD's\": 1, 'dashcam,': 1, 'rewrites.': 1, 'stand': 1, 'uses.': 1, 'port....': 1, 'clarity!': 1, 'dashcams': 1, 'ball': 1, 'socket': 1, 'clamp': 1, 'swings': 1, 'from,': 1, 'tint': 1, 'thread.': 1, 'piece': 1, 'Someone': 1, \"i'm\": 1, 'ways': 1, 'wiring': 1, 'meaning': 1, 'power.': 1, 'degrees': 1, 'cup.': 1, 'mode.': 1, 'stored.': 1, 'Buyers': 1, 'hit': 1, 'today.': 1, 'F': 1, 'U': 1, 'vantrue.': 1, 'everytime': 1, 'then.': 1, 'set.': 1, 'firmware.': 1, 'Glad': 1, 'incidents': 1, 'flaw': 1, 'play': 1, 'constantly.': 1, 'impressions': 1, 'good,': 1, 'ones': 1, 'had,': 1, '(it': 1, 'chips': 1, 'car).': 1, 'plates': 1, 'sun': 1, 'face.': 1, 'structure': 1, 'directory': 1, 'Recordings': 1, 'increase': 1, 'G': 1, 'forces': 1, 'protection.': 1, 'gripe': 1, 'MSRP': 1, 'way.': 1, 'lot.': 1, 'tractor': 1, 'you.': 1, 'recording.': 1, 'instructions,': 1, 'space': 1, 'windshield,': 1, 'X1.': 1, 'angle.': 1, 'everything,': 1, 'easy.': 1, 'moments': 1, 'frame,': 1, 'temperatures.': 1, 'month.': 1, 'pictures': 1, 'yourself.': 1, 'useful,': 1, 'involvement.': 1, 'witness': 1, 'someone': 1, 'else.': 1, 'board': 1, 'input,': 1, 'feature,': 1, 'idea': 1, 'box,': 1, 'services': 1, 'connector,': 1, 'together,': 1, 'Suction': 1, 'buddy': 1, 'fish': 1, 'feeling.': 1, '>>>>>': 1, 'attachment': 1, 'Green': 1, 'cards': 1, 'included.': 1, 'available.': 1, 'feedbacks': 1, 'result': 1, 'updates,': 1, 'usable.': 1, 'cars,': 1, 'objects,': 1, 'numbers,': 1, 'details': 1, 'cases.': 1, 'insurance': 1, 'police': 1, 'involved,': 1, 'place,': 1, 'movements': 1, 'result:': 1, 'back': 1, 'vehicle.': 1, 'that!': 1, 'stars,': 1, 'sale': 1, 'dollars': 1, 'itself,': 1, 'quality,': 1, 'steel': 1, 'dashcams.': 1, 'idea,': 1, 'stiffness': 1, 'joint': 1, 'mount;': 1, 'collision.': 1, 'shots': 1, 'great,': 1, 'drive': 1, 'highway': 1, 'LED': 1, 'lamp': 1, 'posts': 1, 'headlight.': 1, 'plate': 1, 'front.': 1, 'SDcard': 1, 'fingernails': 1, 'butterknife': 1, 'vantrue': 1, 'r2': 1, 'picture,': 1, 'options,': 1, 'yes,': 1, 'manual.': 1, 'research': 1, 'model': 1, 'sites': 1, 'paper': 1, 'report': 1, 'eBay': 1, 'model.': 1, 'breeze.': 1, 'picture': 1, 'low.': 1, 'places': 1, 'instructions.': 1, 'company': 1, 'products.': 1, 'readed': 1, 'web': 1, 'site': 1, 'returns,': 1, 'return': 1, 'wondow': 1, 'base.': 1, 'mount),': 1, 'defect': 1, 'charge;': 1, 'anymore.': 1, \"you'll\": 1, 'store': 1, 'recordings': 1, '(and': 1, 'record).': 1, 'users': 1, 'problem.': 1, 'everyone.': 1, 'terrible.': 1, 'weather': 1, 'loose.': 1, 'capability,': 1, '(tag)': 1, 'bitrate': 1, 'looks': 1, 'DVD': 1, 'interior': 1, 'film': 1, 'notice': 1, 'taillights': 1, 'headlights': 1, 'excessively.': 1, 'mine': 1, 'night.': 1, 'Also,': 1, 'minutes.': 1, 'module': 1, 'comment': 1, 'reviewers': 1, \"I'll\": 1, 'amount': 1, 'bottom': 1, 'side.': 1, 'cause': 1, 'literally:': 1, 'insert': 1, 'card,': 1, '32GB': 1, 'firmware,': 1, 'location': 1, 'radar': 1, 'icon': 1, 'hand': 1, 'left': 1, 'described.': 1, 'cams.': 1, 'light,': 1, 'ones.': 1, \"haven't\": 1, 'viewer': 1, 'program': 1, 'temperature': 1, 'what,': 1, 'cam!': 1, 'specified.': 1, '(new)': 1, 'life!': 1, 'shack': 1, 'cordless': 1, 'Delivery!': 1, 'again!': 1, 'promised,': 1, 'advice': 1, 'changes': 1, 'l': 1, 'Batteries': 1, 'Bluetooth...': 1, 'OK,': 1, 'callers': 1, 'it...': 1, 'integration,': 1, 'M8': 1, 'M10': 1, 'drivers': 1, 'money........': 1, 'sync': 1, 'backing': 1, 'removal': 1, 'distortion': 1, 'music.': 1, 'tape': 1, 'base': 1, 'failed.': 1, 'silicone': 1, 'FM': 1, 'transmitter,': 1, 'Bluetooth': 1, 'best,': 1, 'clear.': 1, 'nothing': 1, 'sensitive,': 1, 'silence': 1, 'player,': 1, 'forward,': 1, 'play.': 1, 'song.': 1, 'brand': 1, 'friend': 1, 'microphone.': 1, 'player': 1, 'microSD': 1, 'slot.': 1, 'S500,': 1, 'command': 1, 'foremost,': 1, 'products,': 1, 'integration': 1, 'sorts': 1, 'skeptical.': 1, 'yet,': 1, 'try.': 1, 'calls,': 1, 'bonus': 1, 'reason': 1, 'sounds': 1, 'stuff': 1, 'playlists.': 1, 'form': 1, 'hiss': 1, 'band': 1, 'metro': 1, 'positions,': 1, 'confines': 1, 'place.': 1, 'opinion.': 1, 'ease': 1, 'switching': 1, 'stations': 1, 'fly.': 1, 'stays': 1, 'city.': 1, 'seconds,': 1, 'eyes': 1, 'capability.': 1, 'socks': 1, 'another.': 1, 'daughters': 1, 'driving.': 1, 'investment.': 1, 'beeps': 1, 'stereo': 1, 'signals': 1, 'connected.': 1, 'touch.': 1, 'trip.': 1, 'enjoy.': 1, 'purpose': 1, 'reception': 1, 'radio,': 1, 'sound.': 1, 'vehicle..': 1, 'RECOMENDADO': 1, 'complaint': 1, 'calling.': 1, 'lot': 1, 'thing:': 1, 'anything!': 1, 'app': 1, 'output': 1, 'responding.': 1, 'claim': 1, 'back.': 1, 'say.': 1, 'Return': 1, 'week': 1, 'cable!': 1, 'computer': 1, 'days,': 1, 'Kindles': 1, 'Kindle,': 1, 'hours': 1, 'percent.': 1, 'sturdy,': 1, 'investment!': 1, 'expectations.': 1, 'right': 1, 'puppy': 1, 'fare': 1, 'lot,': 1, 'ofeasier!!': 1, 'flawlessly.': 1, 'vendor': 1, 'neatly.': 1, 'stout': 1, 'nicely.': 1, 'years': 1, 'to,': 1, 'kindle': 1, 's': 1, 'stop.reading': 1, 'exposure': 1, 'sunlight': 1, 'brittle.': 1, 'feet': 1, 'stand.': 1, 'experience': 1, 'electronics': 1, 'configurations': 1, '(this': 1, 'stronger.': 1, 'href=\"/Kindle-USB-Cable-Nylon-Micro-USB-to-USB-Cable-Deego-10ft-High-Speed-USB-2-0-Cable-for-Amazon-Kindle-Fire-HD-HDX-Kindle-Paperwhite-Voyage-Oasis-Amazon-Tap/dp/B01HJCN1EI/ref=cmcrarpdrvwtxt?ie=UTF8\">Kindle': 1, 'Nylon': 1, 'Micro-USB': 1, 'Speed': 1, 'multitude': 1, 'lost,': 1, 'child': 1, 'fight': 1, 'chance': 1, 'them!': 1, 'LOVE': 1, 'issues.': 1, 'wallmart': 1, 'withing': 1, 'cheaper.': 1, 'in,': 1, 'click': 1, 'force': 1, 'finish,': 1, '(example': 1, 'galaxy': 1, 'a1.5': 1, 'least)': 1, '\"your': 1, 'connectors,': 1, 'new.': 1, 'intended...': 1, 'far.': 1, 'odds.': 1, 'charged.': 1, 'Note': 1, 'data': 1, 'transfer': 1, 'movement': 1, 'maze': 1, 'table': 1, 'outlets.': 1, 'Lightning': 1, 'shipping.': 1, 'dashboard': 1, 'easily.': 1, 'toddler': 1, 'test.': 1, 'tip': 1, 'fins': 1, 'children,': 1, 'ages': 1, 'measure': 1, 'freedom': 1, 'responsibility': 1, 'tablets': 1, 'long.': 1, 'mission': 1, 'brands': 1, 'setup,': 1, 'wall': 1, 'outlet': 1, 'place': 1, 'reach,': 1, 'wich': 1, 'snake': 1, 'zip': 1, 'tie': 1, 'pain,': 1, 'least.': 1, 'adult,': 1, 'cable,': 1, 'purchase.': 1, 'them,': 1, 'bet': 1, 'brand.': 1, 'sturdy.': 1, 'snap': 1, 'phone,': 1, 'house': 1, 'house.': 1, 'Great!': 1, 'People': 1, 'controllers!!!': 1, 'using.': 1, 'broke.': 1, 'casing.': 1, 'cords.': 1, 'brands.': 1, 'up,': 1, 'Plug': 1, 'description': 1, 'packaging': 1, \"isn't\": 1, 'driver': 1, 'online.': 1, 'Mac': 1, 'waste': 1, 'TP-LINK': 1, 'TL-WN725N': 1, 'plug-and-play,': 1, 'instructions': 1, 'chinese.': 1, 'refund.': 1, 'year.': 1, 'length.': 1, 'long,working': 1, 'EDIT:': 1, 'capabilities': 1, 'support.': 1, 'unit,': 1, 'capabilities,': 1, 'mount).': 1, 'cameras.': 1, 'trouble': 1, \"I'd\": 1, 'formatting': 1, '(a': 1, 'card),': 1, 'froze,': 1, 'off,': 1, 'etc.': 1, 'excellent.': 1, 'folks': 1, 'glass.': 1, 'refund': 1, 'route': 1, 'problems.': 1, 'Pros:': 1, 'price,': 1, 'cups': 1, 'regular': 1, 'However,': 1, 'glass': 1, 'vehicle,': 1, 'issues!': 1, 'lifetime': 1, 'clue': 1, 'cradle': 1, '(there': 1, 'telemarketers': 1, 'day).': 1, 'batteries': 1, 'two,': 1, 'supplier.': 1, 'everythign': 1, 'max.': 1, 'tranceiver!': 1, 'holder!': 1, 'reasons.': 1, 'couch': 1, 'recliner.': 1, 'everybody': 1, 'destroy.': 1, 'Update....after': 1, 'flexibility': 1, 'uses': 1, 'knock.': 1, 'while': 1, 'effect': 1, 'connectivity': 1, 'functionality.': 1, ':(': 1, 'expected.': 1, 'packaged.': 1, 'sales': 1, '10ft.': 1, 'pair': 1, '(that': 1, 'replacing)': 1, 'receipt': 1, 'extension': 1, 'gaming': 1, 'pc': 1, 'yards': 1, 'router': 1, 'house,': 1, 'location.': 1, 'signal': 1, 'strength': 1, '15-17mbps': 1, 'conditions.': 1, 'comparison.': 1, 'provider': 1, 'trouble.': 2, 'light': 2, 'pink': 2, 'quickly.': 2, 'quality.': 2, 'Best': 2, 'again.': 2, 'game': 2, 'lengths': 2, 'usb': 2, 'metal': 2, 'abuse': 2, 'great!': 2, 'covering': 2, 'resolution': 2, 'processor': 2, 'delays': 2, 'sensor': 2, 'windshield': 2, 'orientation': 2, 'wire': 2, 'Event': 2, 'folder': 2, 'button': 2, 'snapshot': 2, 'image': 2, 'error': 2, 'part': 2, 'number': 2, 'properly.': 2, 'pack': 2, 'IR': 2, 'summer': 2, 'lever': 2, 'weight': 2, 'record': 2, 'year': 2, 'memory': 2, 'class': 2, 'ok': 2, 'already.': 2, 'sound': 2, 'license': 2, '\"EVENTS\"': 2, 'week.': 2, 'road': 2, 'trailer': 2, 'fault.': 2, 'Love': 2, 'install.': 2, 'fine': 2, 'one,': 2, 'way': 2, 'day': 2, 'cigarette': 2, 'matter': 2, 'cell': 2, 'mount.': 2, 'well,': 2, 'lights': 2, 'system': 2, 'Night': 2, 'case': 2, 'car,': 2, 'enough,': 2, 'it.': 2, 'buttons': 2, 'do,': 2, 'email': 2, 'thing': 2, 'purchase': 2, 'date': 2, 'stamping,': 2, 'screen': 2, 'minutes': 2, 'files': 2, 'problem': 2, 'device,': 2, 'I': 2, 'great.': 2, 'side': 2, 'source': 2, 'replacement': 2, 'lt': 2, 'review.': 2, 'music': 2, 'calls': 2, 'call': 2, 'HTC': 2, 'ALL': 2, 'months.': 2, 'audio': 2, 'MP3': 2, 'sound,': 2, 'stock': 2, 'expectations': 2, 'this,': 2, 'interference': 2, 'area': 2, 'transmitter': 2, 'charger.': 2, 'capability': 2, 'none': 2, 'others': 2, 'Ok': 2, 'charges': 2, 'cord,': 2, 'love': 2, 'ends': 2, 'cover': 2, 'connection': 2, 'Cable,': 2, 'devices': 2, 'amp': 2, 'works': 2, 'dozens': 2, 'kids': 2, 'working.': 2, \"doesn't\": 2, 'kitty': 2, 'X2': 2, 'phones': 2, '6ft': 2, 'cables,': 3, \"wouldn't\": 3, 'port': 3, 'money': 3, 'Customer': 3, 'duty': 3, 'connector': 3, 'star': 3, 'cup': 3, 'option': 3, 'link': 3, 'firmware': 3, 'mode': 3, 'function': 3, 'today': 3, 'problems': 3, 'footage': 3, 'Camera': 3, 'lock': 3, 'features': 3, 'screws': 3, 'mount,': 3, 'rating': 3, \"didn't\": 3, 'car.': 3, 'product.': 3, 'month': 3, 'me,': 3, \"you're\": 3, 'accident': 3, 'itself.': 3, 'colors': 3, 'night': 3, 'things': 3, 'setup': 3, 'stars': 3, 'speed': 3, 'anything': 3, 'life': 3, 'fine.': 3, 'work.': 3, 'antenna': 3, 'hands': 3, 'everything': 3, 'device.': 3, 'support': 3, 'pad': 3, 'them.': 4, 'cable.': 4, 'use': 4, \"won't\": 4, 'cameras': 4, 'suction': 4, 'mounts.': 4, 'feature': 4, 'point': 4, 'cars': 4, 'cams': 4, 'price.': 4, \"can't\": 4, 'videos': 4, 'front': 4, 'cam.': 4, 'camera.': 4, 'time.': 4, \"I'm\": 4, 'this.': 4, 'end': 4, 'A': 4, 'it,': 4, 'unit': 4, 'good.': 4, 'bluetooth': 4, 'people': 4, 'cables.': 4, 'charging': 5, \"it's\": 5, 'nylon': 5, 'service': 5, 'item': 5, 'well.': 5, 'loop': 5, 'parking': 5, 'dashcam': 5, 'kind': 5, 'phone.': 5, 'use,': 5, 'radio': 5, 'couple': 5, \"I've\": 5, 'cord.': 6, 'use.': 6, 'customer': 6, 'days': 6, 'review': 6, 'size': 6, 'design': 6, 'issue': 6, 'months': 6, 'recording': 6, 'one': 6, 'plug': 6, 'GPS': 6, 'weeks': 6, 'cords': 6, 'color': 7, 'charger': 7, 'SD': 7, 'something': 7, 'work': 7, 'cam': 7, 'bit': 7, 'device': 8, 'charge': 8, \"don't\": 8, 'video': 8, 'car': 8, 'product': 8, 'N1': 9, 'price': 9, 'cables': 10, 'power': 11, 'card': 11, 'length': 12, 'time': 13, 'dash': 13, 'R2': 14, 'battery': 14, 'quality': 15, 'phone': 16, 'cord': 18, 'cable': 20, 'camera': 38}\n"
     ]
    }
   ],
   "source": [
    "import operator\n",
    "sorted_freq_dist=sorted(freq_dist.items(),key=operator.itemgetter(1))\n",
    "# change into the dictionary since it is easier to approach\n",
    "dict_sorted_freq_dist=dict(sorted_freq_dist)\n",
    "\n",
    "print(dict_sorted_freq_dist)"
   ]
  },
  {
   "cell_type": "code",
   "execution_count": 70,
   "metadata": {},
   "outputs": [
    {
     "data": {
      "text/plain": [
       "(0, 12)"
      ]
     },
     "execution_count": 70,
     "metadata": {},
     "output_type": "execute_result"
    }
   ],
   "source": []
  },
  {
   "cell_type": "code",
   "execution_count": null,
   "metadata": {},
   "outputs": [],
   "source": []
  }
 ],
 "metadata": {
  "kernelspec": {
   "display_name": "Python 3",
   "language": "python",
   "name": "python3"
  },
  "language_info": {
   "codemirror_mode": {
    "name": "ipython",
    "version": 3
   },
   "file_extension": ".py",
   "mimetype": "text/x-python",
   "name": "python",
   "nbconvert_exporter": "python",
   "pygments_lexer": "ipython3",
   "version": "3.6.5"
  }
 },
 "nbformat": 4,
 "nbformat_minor": 2
}
