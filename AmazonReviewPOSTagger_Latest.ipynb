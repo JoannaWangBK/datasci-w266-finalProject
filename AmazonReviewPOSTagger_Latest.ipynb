{
 "cells": [
  {
   "cell_type": "markdown",
   "metadata": {},
   "source": [
    "# W266 Final Project Code\n",
    "# Amazon Product Review Aspect-Based Sentiment\n",
    "## Jennifer Mahle and Joanna Wang (Sections 3 and 1, respectively) "
   ]
  },
  {
   "cell_type": "markdown",
   "metadata": {},
   "source": [
    "#### Introduction\n",
    "For our final project, we built a classification system for Amazon product reviews. The system categorizes product reviews into various classes of what the review focuses on, then determines whether the review is positive or negative for a given product trait (ie durability, quality, etc). As a user, star ratings alone might not give enough information about the product, so reading the reviews still is the best way to determine if the product fits the user’s needs. The challenge is, sometimes there can be hundreds of reviews for a product and users cannot spend time reading all of them.  So we want to provide this classification system to reduce the review reading process and help the users to find what they need. \n"
   ]
  },
  {
   "cell_type": "markdown",
   "metadata": {},
   "source": [
    "### Exploratory Data Analysis\n",
    "\n",
    "In this section, we load, clean, and explore the data. We are using Amazon product reviews for electronics from the website https://nijianmo.github.io/amazon/index.html"
   ]
  },
  {
   "cell_type": "code",
   "execution_count": null,
   "metadata": {},
   "outputs": [],
   "source": [
    "import warnings\n",
    "import os\n",
    "import pandas as pd\n",
    "\n",
    "warnings.simplefilter(\"ignore\", UserWarning)\n",
    "warnings.simplefilter(\"ignore\", FutureWarning)\n",
    "warnings.simplefilter(\"ignore\", DeprecationWarning)"
   ]
  },
  {
   "cell_type": "code",
   "execution_count": null,
   "metadata": {},
   "outputs": [],
   "source": [
    "dataset = \"Electronics_5.json\"\n",
    "df = pd.read_json(\"Electronics_5.json\", lines=True)\n",
    "\n",
    "#df = pd.read_csv(\"mini_x_train.csv\") \n",
    "\n",
    "display(df.tail())"
   ]
  },
  {
   "cell_type": "code",
   "execution_count": null,
   "metadata": {},
   "outputs": [],
   "source": [
    "print(df.info())"
   ]
  },
  {
   "cell_type": "code",
   "execution_count": null,
   "metadata": {},
   "outputs": [],
   "source": [
    "from datetime import datetime\n",
    "\n",
    "condition = lambda row: datetime.fromtimestamp(row).strftime(\"%m-%d-%Y\")\n",
    "df[\"unixReviewTime\"] = df[\"unixReviewTime\"].apply(condition)"
   ]
  },
  {
   "cell_type": "code",
   "execution_count": null,
   "metadata": {},
   "outputs": [],
   "source": [
    "df.drop(labels=\"reviewTime\", axis=1, inplace=True)\n",
    "\n",
    "display(df.head())"
   ]
  },
  {
   "cell_type": "code",
   "execution_count": null,
   "metadata": {},
   "outputs": [],
   "source": [
    "print(df[\"reviewText\"].iloc[0])"
   ]
  },
  {
   "cell_type": "code",
   "execution_count": null,
   "metadata": {},
   "outputs": [],
   "source": [
    "print(df.overall.unique())"
   ]
  },
  {
   "cell_type": "code",
   "execution_count": null,
   "metadata": {},
   "outputs": [],
   "source": [
    "sample_review = df[\"reviewText\"].iloc[1689185]\n",
    "print(sample_review)"
   ]
  },
  {
   "cell_type": "code",
   "execution_count": null,
   "metadata": {},
   "outputs": [],
   "source": [
    "import html\n",
    "\n",
    "decoded_review = html.unescape(sample_review)\n",
    "print(decoded_review)"
   ]
  },
  {
   "cell_type": "code",
   "execution_count": null,
   "metadata": {},
   "outputs": [],
   "source": [
    "print(\"Data Shape: \",df.shape)\n",
    "no_NA_reviews = df.dropna(subset=['reviewText'])\n",
    "print(\"Data Shape Dropping Observations with NA for the Review Text: \", no_NA_reviews.shape)"
   ]
  },
  {
   "cell_type": "code",
   "execution_count": null,
   "metadata": {},
   "outputs": [],
   "source": [
    "#split the data into training and testing data, using \"overall\" as the target variable\n",
    "y=no_NA_reviews.overall\n",
    "x=no_NA_reviews.drop('overall',axis=1)"
   ]
  },
  {
   "cell_type": "code",
   "execution_count": null,
   "metadata": {},
   "outputs": [],
   "source": [
    "from sklearn.model_selection import train_test_split\n",
    "\n",
    "#x_train,x_test,y_train,y_test=train_test_split(x,y,test_size=0.2)\n",
    "#mini_x_train,mini_x_test,mini_y_train,mini_y_test=train_test_split(x,y,test_size=0.9999)\n",
    "\n",
    "#df_mini= no_NA_reviews.sample(n=600)\n",
    "#df_mini.shape\n",
    "#df_mini.to_csv(r'C:\\Users\\jrmah\\Desktop\\datasci-w266-finalProject\\df_mini.csv')\n",
    "\n",
    "asin_subset = no_NA_reviews[(no_NA_reviews.asin == \"B01HJCN1EI\") | (no_NA_reviews.asin == \"B01HJH42KU\") | \n",
    "                            (no_NA_reviews.asin == \"B01HJH40WU\") | (no_NA_reviews.asin == \"B01HJF704M\") | \n",
    "                           (no_NA_reviews.asin == \"B01HJCN5GC\") | (no_NA_reviews.asin == \"B01HJCN5TO\") |\n",
    "                           (no_NA_reviews.asin == \"B01HJDNL60\") | (no_NA_reviews.asin == \"B01HJDR9DQ\") |\n",
    "                           (no_NA_reviews.asin == \"B01HJFFHTC\") | (no_NA_reviews.asin == \"B01HJCN1EI\")]\n"
   ]
  },
  {
   "cell_type": "code",
   "execution_count": null,
   "metadata": {},
   "outputs": [],
   "source": [
    "asin_subset.to_csv(r'C:\\Users\\jrmah\\Desktop\\datasci-w266-finalProject\\asin_subset.csv')\n",
    "#no_NA_reviews.tail()"
   ]
  },
  {
   "cell_type": "code",
   "execution_count": 2,
   "metadata": {},
   "outputs": [
    {
     "data": {
      "text/html": [
       "<div>\n",
       "<style scoped>\n",
       "    .dataframe tbody tr th:only-of-type {\n",
       "        vertical-align: middle;\n",
       "    }\n",
       "\n",
       "    .dataframe tbody tr th {\n",
       "        vertical-align: top;\n",
       "    }\n",
       "\n",
       "    .dataframe thead th {\n",
       "        text-align: right;\n",
       "    }\n",
       "</style>\n",
       "<table border=\"1\" class=\"dataframe\">\n",
       "  <thead>\n",
       "    <tr style=\"text-align: right;\">\n",
       "      <th></th>\n",
       "      <th>Unnamed: 0</th>\n",
       "      <th>asin</th>\n",
       "      <th>image</th>\n",
       "      <th>overall</th>\n",
       "      <th>reviewText</th>\n",
       "      <th>reviewerID</th>\n",
       "      <th>reviewerName</th>\n",
       "      <th>style</th>\n",
       "      <th>summary</th>\n",
       "      <th>unixReviewTime</th>\n",
       "      <th>verified</th>\n",
       "      <th>vote</th>\n",
       "    </tr>\n",
       "  </thead>\n",
       "  <tbody>\n",
       "    <tr>\n",
       "      <th>0</th>\n",
       "      <td>6099679</td>\n",
       "      <td>B01HJCN5GC</td>\n",
       "      <td>NaN</td>\n",
       "      <td>5</td>\n",
       "      <td>Great buy!</td>\n",
       "      <td>ATGTQKPUR7XIO</td>\n",
       "      <td>Arthur</td>\n",
       "      <td>NaN</td>\n",
       "      <td>Five Stars</td>\n",
       "      <td>10-09-2016</td>\n",
       "      <td>True</td>\n",
       "      <td>NaN</td>\n",
       "    </tr>\n",
       "    <tr>\n",
       "      <th>1</th>\n",
       "      <td>6099680</td>\n",
       "      <td>B01HJCN5GC</td>\n",
       "      <td>NaN</td>\n",
       "      <td>5</td>\n",
       "      <td>Works very well and we have lots (&amp; lots) of e...</td>\n",
       "      <td>A15VV7NPTST593</td>\n",
       "      <td>Randy T.</td>\n",
       "      <td>NaN</td>\n",
       "      <td>Extend your reach with ease</td>\n",
       "      <td>09-07-2016</td>\n",
       "      <td>True</td>\n",
       "      <td>NaN</td>\n",
       "    </tr>\n",
       "    <tr>\n",
       "      <th>2</th>\n",
       "      <td>6099681</td>\n",
       "      <td>B01HJCN5GC</td>\n",
       "      <td>NaN</td>\n",
       "      <td>5</td>\n",
       "      <td>This cable is very flexible. Just what I wanted.</td>\n",
       "      <td>AIM3MWK3Y7XOR</td>\n",
       "      <td>Kindle Customer</td>\n",
       "      <td>NaN</td>\n",
       "      <td>Flexible cable</td>\n",
       "      <td>03-14-2017</td>\n",
       "      <td>True</td>\n",
       "      <td>NaN</td>\n",
       "    </tr>\n",
       "    <tr>\n",
       "      <th>3</th>\n",
       "      <td>6099682</td>\n",
       "      <td>B01HJCN5GC</td>\n",
       "      <td>NaN</td>\n",
       "      <td>5</td>\n",
       "      <td>These are the best charging cables, and if oth...</td>\n",
       "      <td>A5W6EI03IKOLB</td>\n",
       "      <td>P.Davidson</td>\n",
       "      <td>NaN</td>\n",
       "      <td>Best cables</td>\n",
       "      <td>02-15-2017</td>\n",
       "      <td>True</td>\n",
       "      <td>NaN</td>\n",
       "    </tr>\n",
       "    <tr>\n",
       "      <th>4</th>\n",
       "      <td>6099683</td>\n",
       "      <td>B01HJCN5GC</td>\n",
       "      <td>NaN</td>\n",
       "      <td>4</td>\n",
       "      <td>I bought this in rose gold or light pink and i...</td>\n",
       "      <td>A3QZTMHQ1XZ8PM</td>\n",
       "      <td>glittergirl</td>\n",
       "      <td>NaN</td>\n",
       "      <td>super cute cord</td>\n",
       "      <td>02-13-2017</td>\n",
       "      <td>True</td>\n",
       "      <td>NaN</td>\n",
       "    </tr>\n",
       "  </tbody>\n",
       "</table>\n",
       "</div>"
      ],
      "text/plain": [
       "   Unnamed: 0        asin image  overall  \\\n",
       "0     6099679  B01HJCN5GC   NaN        5   \n",
       "1     6099680  B01HJCN5GC   NaN        5   \n",
       "2     6099681  B01HJCN5GC   NaN        5   \n",
       "3     6099682  B01HJCN5GC   NaN        5   \n",
       "4     6099683  B01HJCN5GC   NaN        4   \n",
       "\n",
       "                                          reviewText      reviewerID  \\\n",
       "0                                         Great buy!   ATGTQKPUR7XIO   \n",
       "1  Works very well and we have lots (& lots) of e...  A15VV7NPTST593   \n",
       "2   This cable is very flexible. Just what I wanted.   AIM3MWK3Y7XOR   \n",
       "3  These are the best charging cables, and if oth...   A5W6EI03IKOLB   \n",
       "4  I bought this in rose gold or light pink and i...  A3QZTMHQ1XZ8PM   \n",
       "\n",
       "      reviewerName style                      summary unixReviewTime  \\\n",
       "0           Arthur   NaN                   Five Stars     10-09-2016   \n",
       "1         Randy T.   NaN  Extend your reach with ease     09-07-2016   \n",
       "2  Kindle Customer   NaN               Flexible cable     03-14-2017   \n",
       "3       P.Davidson   NaN                  Best cables     02-15-2017   \n",
       "4      glittergirl   NaN              super cute cord     02-13-2017   \n",
       "\n",
       "   verified  vote  \n",
       "0      True   NaN  \n",
       "1      True   NaN  \n",
       "2      True   NaN  \n",
       "3      True   NaN  \n",
       "4      True   NaN  "
      ]
     },
     "execution_count": 2,
     "metadata": {},
     "output_type": "execute_result"
    }
   ],
   "source": [
    "\n",
    "#df_mini = pd.read_csv(\"df_mini.csv\")\n",
    "asin_subset = pd.read_csv(\"asin_subset.csv\")\n",
    "asin_subset.shape\n",
    "asin_subset.head()"
   ]
  },
  {
   "cell_type": "code",
   "execution_count": 3,
   "metadata": {},
   "outputs": [],
   "source": [
    "#print(df_mini.shape)\n",
    "#x_train = df_mini\n",
    "x_train = asin_subset"
   ]
  },
  {
   "cell_type": "markdown",
   "metadata": {},
   "source": [
    "### Text Encoding using Universal Sentence Encoder\n",
    "\n",
    "In the subsequent code cells, we load the Universal Sentence Encoder (USE), break the data into training and testing data, and apply the USE to the data. "
   ]
  },
  {
   "cell_type": "code",
   "execution_count": null,
   "metadata": {},
   "outputs": [],
   "source": [
    "!pip3 uninstall tensorflow-gpu\n",
    "!pip3 uninstall tensorflow"
   ]
  },
  {
   "cell_type": "code",
   "execution_count": null,
   "metadata": {},
   "outputs": [],
   "source": [
    "# Remove ## from lines starting with ! and run them the first time to install necessary packages \n",
    "\n",
    "##%%capture\n",
    "# Install the Tensorflow 2.0.0 version.\n",
    "!pip3 install tensorflow==2.0.0\n",
    "# Install TF-Hub.\n",
    "!pip3 install tensorflow-hub\n",
    "!pip3 install seaborn\n"
   ]
  },
  {
   "cell_type": "code",
   "execution_count": 1,
   "metadata": {},
   "outputs": [
    {
     "name": "stdout",
     "output_type": "stream",
     "text": [
      "module https://tfhub.dev/google/universal-sentence-encoder/4 loaded\n"
     ]
    }
   ],
   "source": [
    "#@title Load the Universal Sentence Encoder's TF Hub module\n",
    "from absl import logging\n",
    "\n",
    "import tensorflow as tf\n",
    "import tensorflow_hub as hub\n",
    "import matplotlib.pyplot as plt\n",
    "import numpy as np\n",
    "import os\n",
    "import pandas as pd\n",
    "import re\n",
    "import seaborn as sns\n",
    "\n",
    "module_url = \"https://tfhub.dev/google/universal-sentence-encoder/4\" #@param [\"https://tfhub.dev/google/universal-sentence-encoder/4\", \"https://tfhub.dev/google/universal-sentence-encoder-large/5\"]\n",
    "model = hub.load(module_url)\n",
    "print (\"module %s loaded\" % module_url)\n",
    "def embed(input):\n",
    "  return model(input)"
   ]
  },
  {
   "cell_type": "code",
   "execution_count": 4,
   "metadata": {},
   "outputs": [],
   "source": [
    "#create embeddings on the training data \n",
    "logging.set_verbosity(logging.ERROR)\n",
    "#message_embeddings = embed(x_train.reviewText)\n",
    "message_embeddings = embed(x_train.reviewText)"
   ]
  },
  {
   "cell_type": "code",
   "execution_count": 5,
   "metadata": {},
   "outputs": [
    {
     "name": "stdout",
     "output_type": "stream",
     "text": [
      "Training X Shape (151, 12)\n"
     ]
    }
   ],
   "source": [
    "print(\"Training X Shape\", x_train.shape)\n",
    "#print(\"Testing X Shape\", x_test.shape)"
   ]
  },
  {
   "cell_type": "code",
   "execution_count": 6,
   "metadata": {},
   "outputs": [
    {
     "data": {
      "text/html": [
       "<div>\n",
       "<style scoped>\n",
       "    .dataframe tbody tr th:only-of-type {\n",
       "        vertical-align: middle;\n",
       "    }\n",
       "\n",
       "    .dataframe tbody tr th {\n",
       "        vertical-align: top;\n",
       "    }\n",
       "\n",
       "    .dataframe thead th {\n",
       "        text-align: right;\n",
       "    }\n",
       "</style>\n",
       "<table border=\"1\" class=\"dataframe\">\n",
       "  <thead>\n",
       "    <tr style=\"text-align: right;\">\n",
       "      <th></th>\n",
       "      <th>Unnamed: 0</th>\n",
       "      <th>asin</th>\n",
       "      <th>image</th>\n",
       "      <th>overall</th>\n",
       "      <th>reviewText</th>\n",
       "      <th>reviewerID</th>\n",
       "      <th>reviewerName</th>\n",
       "      <th>style</th>\n",
       "      <th>summary</th>\n",
       "      <th>unixReviewTime</th>\n",
       "      <th>verified</th>\n",
       "      <th>vote</th>\n",
       "    </tr>\n",
       "  </thead>\n",
       "  <tbody>\n",
       "    <tr>\n",
       "      <th>0</th>\n",
       "      <td>6099679</td>\n",
       "      <td>B01HJCN5GC</td>\n",
       "      <td>NaN</td>\n",
       "      <td>5</td>\n",
       "      <td>Great buy!</td>\n",
       "      <td>ATGTQKPUR7XIO</td>\n",
       "      <td>Arthur</td>\n",
       "      <td>NaN</td>\n",
       "      <td>Five Stars</td>\n",
       "      <td>10-09-2016</td>\n",
       "      <td>True</td>\n",
       "      <td>NaN</td>\n",
       "    </tr>\n",
       "    <tr>\n",
       "      <th>1</th>\n",
       "      <td>6099680</td>\n",
       "      <td>B01HJCN5GC</td>\n",
       "      <td>NaN</td>\n",
       "      <td>5</td>\n",
       "      <td>Works very well and we have lots (&amp; lots) of e...</td>\n",
       "      <td>A15VV7NPTST593</td>\n",
       "      <td>Randy T.</td>\n",
       "      <td>NaN</td>\n",
       "      <td>Extend your reach with ease</td>\n",
       "      <td>09-07-2016</td>\n",
       "      <td>True</td>\n",
       "      <td>NaN</td>\n",
       "    </tr>\n",
       "    <tr>\n",
       "      <th>2</th>\n",
       "      <td>6099681</td>\n",
       "      <td>B01HJCN5GC</td>\n",
       "      <td>NaN</td>\n",
       "      <td>5</td>\n",
       "      <td>This cable is very flexible. Just what I wanted.</td>\n",
       "      <td>AIM3MWK3Y7XOR</td>\n",
       "      <td>Kindle Customer</td>\n",
       "      <td>NaN</td>\n",
       "      <td>Flexible cable</td>\n",
       "      <td>03-14-2017</td>\n",
       "      <td>True</td>\n",
       "      <td>NaN</td>\n",
       "    </tr>\n",
       "    <tr>\n",
       "      <th>3</th>\n",
       "      <td>6099682</td>\n",
       "      <td>B01HJCN5GC</td>\n",
       "      <td>NaN</td>\n",
       "      <td>5</td>\n",
       "      <td>These are the best charging cables, and if oth...</td>\n",
       "      <td>A5W6EI03IKOLB</td>\n",
       "      <td>P.Davidson</td>\n",
       "      <td>NaN</td>\n",
       "      <td>Best cables</td>\n",
       "      <td>02-15-2017</td>\n",
       "      <td>True</td>\n",
       "      <td>NaN</td>\n",
       "    </tr>\n",
       "    <tr>\n",
       "      <th>4</th>\n",
       "      <td>6099683</td>\n",
       "      <td>B01HJCN5GC</td>\n",
       "      <td>NaN</td>\n",
       "      <td>4</td>\n",
       "      <td>I bought this in rose gold or light pink and i...</td>\n",
       "      <td>A3QZTMHQ1XZ8PM</td>\n",
       "      <td>glittergirl</td>\n",
       "      <td>NaN</td>\n",
       "      <td>super cute cord</td>\n",
       "      <td>02-13-2017</td>\n",
       "      <td>True</td>\n",
       "      <td>NaN</td>\n",
       "    </tr>\n",
       "  </tbody>\n",
       "</table>\n",
       "</div>"
      ],
      "text/plain": [
       "   Unnamed: 0        asin image  overall  \\\n",
       "0     6099679  B01HJCN5GC   NaN        5   \n",
       "1     6099680  B01HJCN5GC   NaN        5   \n",
       "2     6099681  B01HJCN5GC   NaN        5   \n",
       "3     6099682  B01HJCN5GC   NaN        5   \n",
       "4     6099683  B01HJCN5GC   NaN        4   \n",
       "\n",
       "                                          reviewText      reviewerID  \\\n",
       "0                                         Great buy!   ATGTQKPUR7XIO   \n",
       "1  Works very well and we have lots (& lots) of e...  A15VV7NPTST593   \n",
       "2   This cable is very flexible. Just what I wanted.   AIM3MWK3Y7XOR   \n",
       "3  These are the best charging cables, and if oth...   A5W6EI03IKOLB   \n",
       "4  I bought this in rose gold or light pink and i...  A3QZTMHQ1XZ8PM   \n",
       "\n",
       "      reviewerName style                      summary unixReviewTime  \\\n",
       "0           Arthur   NaN                   Five Stars     10-09-2016   \n",
       "1         Randy T.   NaN  Extend your reach with ease     09-07-2016   \n",
       "2  Kindle Customer   NaN               Flexible cable     03-14-2017   \n",
       "3       P.Davidson   NaN                  Best cables     02-15-2017   \n",
       "4      glittergirl   NaN              super cute cord     02-13-2017   \n",
       "\n",
       "   verified  vote  \n",
       "0      True   NaN  \n",
       "1      True   NaN  \n",
       "2      True   NaN  \n",
       "3      True   NaN  \n",
       "4      True   NaN  "
      ]
     },
     "execution_count": 6,
     "metadata": {},
     "output_type": "execute_result"
    }
   ],
   "source": [
    "x_train.head()"
   ]
  },
  {
   "cell_type": "code",
   "execution_count": 12,
   "metadata": {},
   "outputs": [
    {
     "data": {
      "text/plain": [
       "<tf.Tensor: id=5310, shape=(512,), dtype=float32, numpy=\n",
       "array([ 0.00710741, -0.09182499,  0.02211771,  0.02918162,  0.03248031,\n",
       "       -0.00574995,  0.01550163,  0.01271848, -0.03912225, -0.04936445,\n",
       "       -0.04106535, -0.03063094, -0.04944001,  0.07665452, -0.02052558,\n",
       "        0.09214974,  0.02414197, -0.02064327,  0.05531691, -0.01879737,\n",
       "       -0.05702349, -0.00586061,  0.01588081, -0.03555921, -0.01498751,\n",
       "        0.00399226,  0.01141417, -0.0243075 , -0.03564594, -0.01301201,\n",
       "        0.04049183, -0.02411711,  0.03397733,  0.0012069 ,  0.04055983,\n",
       "        0.04646035,  0.02682724,  0.03999465, -0.00665502, -0.01069987,\n",
       "       -0.01126873,  0.05030269, -0.02923088, -0.05813222, -0.03194809,\n",
       "       -0.0402074 , -0.04014372, -0.04637567, -0.04457714,  0.07127845,\n",
       "        0.06020061,  0.00120793,  0.04956914,  0.07571479,  0.02649621,\n",
       "       -0.00352104, -0.01519211, -0.03678934,  0.07496415, -0.00524928,\n",
       "        0.03508531, -0.00150366, -0.00683645,  0.00260571,  0.03070576,\n",
       "        0.07994416, -0.02949369, -0.0294825 ,  0.07918663,  0.01023989,\n",
       "       -0.04485385,  0.05295012,  0.05203463, -0.03321719,  0.03728477,\n",
       "        0.06096497, -0.00451503,  0.0130777 , -0.00075011, -0.00522151,\n",
       "       -0.06732915,  0.05915528, -0.00587155, -0.01692054, -0.01199421,\n",
       "        0.07774771, -0.01970705, -0.02939519,  0.0688717 ,  0.05577505,\n",
       "       -0.01417065, -0.01149623,  0.00117671, -0.00858156, -0.01213226,\n",
       "       -0.00976412, -0.00034136, -0.01792614, -0.03695938,  0.08292224,\n",
       "        0.02495261, -0.04073421,  0.05998277, -0.06590271,  0.07484232,\n",
       "       -0.05737216,  0.02263087, -0.00710314, -0.00510509,  0.06274571,\n",
       "       -0.01542848,  0.08754982,  0.04162995, -0.01848654, -0.01730695,\n",
       "        0.08416935, -0.02537464,  0.02279338,  0.01887724,  0.03957844,\n",
       "        0.00769443, -0.02818662, -0.01046267,  0.04480828,  0.02013143,\n",
       "        0.03208989, -0.02995273,  0.01251339,  0.056147  , -0.02580993,\n",
       "        0.03720572,  0.05599524,  0.05081218, -0.04322687,  0.03057431,\n",
       "       -0.01904741,  0.00724642, -0.01066889, -0.02452395, -0.01241121,\n",
       "        0.00043964, -0.03415414,  0.01000535,  0.03614641,  0.00961454,\n",
       "        0.03584581,  0.04422267,  0.01404157, -0.04215896, -0.03768429,\n",
       "       -0.00123331,  0.00915728, -0.09855229, -0.07018895,  0.0735874 ,\n",
       "        0.01102198,  0.02252703, -0.0256366 ,  0.02560985, -0.01317344,\n",
       "        0.00880041, -0.0151764 ,  0.00581679, -0.00715884,  0.02979615,\n",
       "       -0.00714197, -0.07681954,  0.06388132,  0.00863981, -0.06743345,\n",
       "        0.02527715,  0.08620501, -0.05327784,  0.06292944, -0.07236079,\n",
       "        0.01851919,  0.0681212 , -0.01425119, -0.04587802, -0.09945617,\n",
       "        0.05260283, -0.03902005,  0.02130184, -0.00579646,  0.06707869,\n",
       "       -0.02185497, -0.00084761, -0.08133463,  0.07220772, -0.00149654,\n",
       "        0.06193967,  0.01190602,  0.02939741,  0.03469858,  0.02419356,\n",
       "       -0.0299336 , -0.01880012, -0.05553009,  0.02449319,  0.07427102,\n",
       "       -0.05431924, -0.00242513,  0.04525342,  0.00183614, -0.03484783,\n",
       "       -0.00505726,  0.00475072, -0.0095818 ,  0.02563398, -0.05680079,\n",
       "       -0.00199948, -0.05336516, -0.01918433,  0.01452967, -0.09010557,\n",
       "        0.01988919,  0.00654957, -0.05516397, -0.03881893,  0.01088294,\n",
       "       -0.04085157, -0.07376818, -0.02296072,  0.0006612 ,  0.03759787,\n",
       "        0.08738801,  0.05800448,  0.08823176,  0.04158829, -0.09802935,\n",
       "        0.02088955,  0.01098933,  0.02422765,  0.100524  ,  0.01844799,\n",
       "       -0.02273892,  0.06962707, -0.03591174, -0.07977045, -0.07645959,\n",
       "       -0.04451759,  0.02694998, -0.04902435,  0.05457683, -0.03582028,\n",
       "        0.09631985, -0.02380159, -0.02077792, -0.006305  ,  0.03923335,\n",
       "       -0.00484407,  0.04986101, -0.0297276 , -0.00638605, -0.0481656 ,\n",
       "        0.01376429,  0.06413303,  0.03641247,  0.01528196, -0.0570185 ,\n",
       "       -0.00104972,  0.07285009,  0.08831402, -0.04539307,  0.0025714 ,\n",
       "        0.01959756,  0.00205643, -0.01995346,  0.0405384 ,  0.01495724,\n",
       "        0.10019124,  0.08684039,  0.05716395,  0.00947836,  0.00049339,\n",
       "        0.00068669,  0.05980841, -0.00921387,  0.08067926,  0.01368628,\n",
       "       -0.01897931,  0.03315903, -0.08794577, -0.03992636, -0.03913653,\n",
       "       -0.03358499,  0.0603434 , -0.01575568,  0.01834938,  0.04595227,\n",
       "        0.03396028,  0.09498543, -0.05808425, -0.05100885,  0.09565775,\n",
       "        0.04804596,  0.04927238, -0.01502924,  0.01502315, -0.05280542,\n",
       "       -0.0515326 ,  0.02381701,  0.02291168,  0.02671625,  0.07493627,\n",
       "        0.04747162, -0.00691675,  0.05830204, -0.05276889, -0.03238683,\n",
       "       -0.05136376, -0.01327184, -0.0020252 , -0.04462872, -0.03750222,\n",
       "        0.04192118,  0.02194542,  0.01523543, -0.04532779,  0.0002743 ,\n",
       "       -0.03201229, -0.02066888,  0.055633  ,  0.03190953,  0.0367561 ,\n",
       "        0.05147943,  0.04467646, -0.07423098, -0.07033966, -0.03459504,\n",
       "       -0.05378063,  0.02768937,  0.02960725, -0.09479928, -0.05363599,\n",
       "        0.02585031, -0.02612467, -0.01051106,  0.00182344,  0.02330497,\n",
       "        0.0516512 , -0.00336458,  0.01551768,  0.03740987,  0.07047381,\n",
       "        0.01376428, -0.03025747, -0.0298334 ,  0.00351324, -0.04424921,\n",
       "        0.04599462,  0.05347034,  0.05509517, -0.04107369, -0.09776491,\n",
       "       -0.04601049, -0.09460511, -0.03579973,  0.05811562,  0.03289349,\n",
       "       -0.05381716, -0.03088542,  0.09576158,  0.00332811,  0.0678506 ,\n",
       "       -0.02029062,  0.00973232, -0.01287921,  0.03200403,  0.03954285,\n",
       "        0.01494907, -0.06878324, -0.05392741,  0.00851522, -0.02852861,\n",
       "        0.07725682,  0.03622156, -0.06277455, -0.01117728, -0.02932475,\n",
       "       -0.00082619, -0.00371162,  0.07543957, -0.05015739, -0.06877738,\n",
       "        0.01281741, -0.03368853,  0.05850567, -0.04129265,  0.05320118,\n",
       "       -0.02275255, -0.0082186 ,  0.00024064,  0.01766472,  0.01841281,\n",
       "       -0.05952858, -0.07218495, -0.05699415,  0.03459085, -0.00143624,\n",
       "       -0.00984089, -0.03230396, -0.00865749, -0.05698036, -0.05283913,\n",
       "        0.01127831,  0.04854149, -0.00421273, -0.01190587,  0.02735403,\n",
       "        0.00088119,  0.00176896, -0.0165657 ,  0.06596439, -0.08373658,\n",
       "       -0.01794648,  0.02256667,  0.04792235,  0.02043915, -0.00267687,\n",
       "        0.00879143,  0.04578043, -0.03570003, -0.07958578,  0.06727222,\n",
       "        0.01578277,  0.04327693,  0.07566678, -0.03626794,  0.03995625,\n",
       "        0.03277235,  0.02669532, -0.03401816, -0.023391  , -0.02224243,\n",
       "       -0.04314305, -0.06466935,  0.03028105,  0.05158118,  0.0629429 ,\n",
       "       -0.01529101, -0.05911449,  0.00367086,  0.02742542,  0.06586376,\n",
       "        0.00271721,  0.06606376,  0.01248577, -0.00188195,  0.02400152,\n",
       "       -0.01870246, -0.04504701,  0.00938355, -0.00704131,  0.0131735 ,\n",
       "        0.08278695,  0.04097674,  0.062241  ,  0.06758364,  0.07649586,\n",
       "       -0.05792877,  0.01323242,  0.03436639, -0.0812229 ,  0.00813799,\n",
       "        0.03044445,  0.01741654, -0.0167035 , -0.01411339,  0.02199122,\n",
       "       -0.02202232,  0.03889158,  0.07596901, -0.02649751,  0.0518236 ,\n",
       "       -0.06028063, -0.06148019,  0.01048823,  0.09929964, -0.07939574,\n",
       "        0.00212175, -0.07609562,  0.07812539, -0.00256362,  0.0376982 ,\n",
       "        0.04199401,  0.04511635,  0.01528635,  0.0019172 , -0.02568027,\n",
       "        0.02731851,  0.05557902,  0.06871916,  0.00048606,  0.04752272,\n",
       "       -0.00116917,  0.00161022, -0.06509149, -0.03134951,  0.02606545,\n",
       "        0.02681911, -0.03809842,  0.01431288, -0.09720413,  0.04580915,\n",
       "        0.06395677,  0.01273649,  0.04284389,  0.00673826, -0.01408588,\n",
       "       -0.04345747, -0.06378876], dtype=float32)>"
      ]
     },
     "execution_count": 12,
     "metadata": {},
     "output_type": "execute_result"
    }
   ],
   "source": [
    "message_embeddings[0]"
   ]
  },
  {
   "cell_type": "markdown",
   "metadata": {},
   "source": [
    "## Stanford POS Tagger to Find Product Attributes\n",
    "\n",
    "We use the Stanford POS tagger to find the most common nouns used in product reviews for each product ID (ASIN). Then we use the most common nouns as product attributes. "
   ]
  },
  {
   "cell_type": "code",
   "execution_count": null,
   "metadata": {},
   "outputs": [],
   "source": [
    "#!python -m pip install --upgrade pip\n",
    "#!pip install torch\n",
    "#!pip install stanfordnlp"
   ]
  },
  {
   "cell_type": "code",
   "execution_count": 8,
   "metadata": {},
   "outputs": [],
   "source": [
    "# need to install java (unless you already have it installed) \n",
    "# and update the path to where ever it is stored on your computer\n",
    "import os\n",
    "java_path = \"C:/Program Files/Java/jre1.8.0_241/bin/java.exe\"\n",
    "os.environ['JAVAHOME'] = java_path\n",
    "\n",
    "# need to follow instructions to install Stanford POS tagger here: \n",
    "# https://phitchuria.wordpress.com/2018/09/29/python-nltk-using-stanford-pos-tagger-in-nltk-on-windows/\n",
    "from nltk.tag import StanfordPOSTagger\n",
    "from nltk.corpus import stopwords\n",
    "stanford_dir = \"C:\\Stanford\\stanford-postagger-2018-10-16\"\n",
    "modelfile = stanford_dir+\"\\models\\english-bidirectional-distsim.tagger\"\n",
    "jarfile=stanford_dir+\"\\stanford-postagger.jar\"\n",
    "\n",
    "tagger=StanfordPOSTagger(model_filename=modelfile, path_to_jar=jarfile)"
   ]
  },
  {
   "cell_type": "code",
   "execution_count": 9,
   "metadata": {},
   "outputs": [],
   "source": [
    "freq_dist={}\n",
    "for i in range(1,len(x_train)): \n",
    "#for i in range(1,10): \n",
    "    tagged_POS = tagger.tag(x_train.reviewText[i].split())\n",
    "    for word,tag in tagged_POS:\n",
    "        if tag == 'NN' or tag == 'NNS':\n",
    "            if word in freq_dist:\n",
    "                freq_dist[word] += 1\n",
    "            else:\n",
    "                freq_dist[word] = 1\n"
   ]
  },
  {
   "cell_type": "code",
   "execution_count": 10,
   "metadata": {},
   "outputs": [
    {
     "name": "stdout",
     "output_type": "stream",
     "text": [
      "{'lots': 1, 'extension.': 1, 'family': 1, 'members': 1, 'rose': 1, 'gold': 1, 'bubblegum': 1, 'issues': 1, 'pop': 1, 'staying': 1, 'cabel.': 1, 'cording': 1, 'wires': 1, 'breaking,': 1, 'too.': 1, 'purchased!': 1, \"Can't\": 1, 'bump': 1, 'stiff': 1, 'replacement.': 1, 'better.': 1, 'either.': 1, 'green': 1, 'ladies': 1, 'places.': 1, 'fear': 1, 'bend': 1, 'bleep': 1, 'connection.': 1, '(hear)': 1, \"you'\": 1, '(Kindle)': 1, 'a.m.': 1, 'morning.': 1, 'thanks': 1, 'fits': 1, 'tablet': 1, 'battery.': 1, 'room': 1, 'soft,': 1, 'deform....bought': 1, 'case....I': 1, 'reviews': 1, 'pay': 1, 'attention....one': 1, 'functioning.....the': 1, 'position...it': 1, 'fire....I': 1, 'package': 1, 'green,': 1, 'charger!': 1, 'Camera,': 1, 'Im': 1, 'GoPro.': 1, '1080P': 1, 'HDR,': 1, 'par': 1, 'resolution,': 1, 'video.': 1, 'there,': 1, 'operation.': 1, 'NT96650': 1, 'AR0330': 1, 'CMOS': 1, 'sizes': 1, 'monitor': 1, 'systems.': 1, 'R2,': 1, 'Mini': 1, 'look': 1, 'clips': 1, 'sure.': 1, 'Folder': 1, 'folder.': 1, 'emergency': 1, 'ability': 1, 'recording,': 1, '12MP': 1, 'nuts': 1, 'code': 1, 'version': 1, 'file': 1, 'head': 1, 'upgrade': 1, 'V1': 1, 'V2.': 1, 'slot': 1, 'easily,': 1, 'all,': 1, 'out.': 1, 'G-sensor': 1, '150mAh.': 1, 'dirt': 1, 'cheap': 1, 'premium': 1, 'R2.': 1, 'difference.': 1, '64GB': 1, 'FAT32,': 1, 'latency': 1, 'bells': 1, 'whistles': 1, 'point.': 1, 'brother': 1, 'terms': 1, 'GUI': 1, 'interface': 1, 'transition': 1, 'seamless.': 1, 'footprint': 1, 'questions': 1, 'Vantrue': 1, 'A1': 1, 'size.': 1, 'value': 1, 'aluminum': 1, 'thats': 1, 'handling': 1, 'heat': 1, 'though.': 1, 'camera,': 1, 'series': 1, \"microSD's\": 1, 'dashcam,': 1, 'rewrites.': 1, 'stand': 1, 'uses.': 1, 'port....': 1, 'clarity!': 1, 'dashcams': 1, 'ball': 1, 'socket': 1, 'clamp': 1, 'swings': 1, 'from,': 1, 'tint': 1, 'thread.': 1, 'piece': 1, 'Someone': 1, \"i'm\": 1, 'ways': 1, 'wiring': 1, 'meaning': 1, 'power.': 1, 'degrees': 1, 'cup.': 1, 'mode.': 1, 'stored.': 1, 'Buyers': 1, 'hit': 1, 'today.': 1, 'F': 1, 'U': 1, 'vantrue.': 1, 'everytime': 1, 'then.': 1, 'set.': 1, 'firmware.': 1, 'Glad': 1, 'incidents': 1, 'flaw': 1, 'play': 1, 'constantly.': 1, 'impressions': 1, 'good,': 1, 'ones': 1, 'had,': 1, '(it': 1, 'chips': 1, 'car).': 1, 'plates': 1, 'sun': 1, 'face.': 1, 'structure': 1, 'directory': 1, 'Recordings': 1, 'increase': 1, 'G': 1, 'forces': 1, 'protection.': 1, 'gripe': 1, 'MSRP': 1, 'way.': 1, 'lot.': 1, 'tractor': 1, 'you.': 1, 'recording.': 1, 'instructions,': 1, 'space': 1, 'windshield,': 1, 'X1.': 1, 'angle.': 1, 'everything,': 1, 'easy.': 1, 'moments': 1, 'frame,': 1, 'temperatures.': 1, 'month.': 1, 'pictures': 1, 'yourself.': 1, 'useful,': 1, 'involvement.': 1, 'witness': 1, 'someone': 1, 'else.': 1, 'board': 1, 'input,': 1, 'feature,': 1, 'idea': 1, 'box,': 1, 'services': 1, 'connector,': 1, 'together,': 1, 'Suction': 1, 'buddy': 1, 'fish': 1, 'feeling.': 1, '>>>>>': 1, 'attachment': 1, 'Green': 1, 'cards': 1, 'included.': 1, 'available.': 1, 'feedbacks': 1, 'result': 1, 'updates,': 1, 'usable.': 1, 'cars,': 1, 'objects,': 1, 'numbers,': 1, 'details': 1, 'cases.': 1, 'insurance': 1, 'police': 1, 'involved,': 1, 'place,': 1, 'movements': 1, 'result:': 1, 'back': 1, 'vehicle.': 1, 'that!': 1, 'stars,': 1, 'sale': 1, 'dollars': 1, 'itself,': 1, 'quality,': 1, 'steel': 1, 'dashcams.': 1, 'idea,': 1, 'stiffness': 1, 'joint': 1, 'mount;': 1, 'collision.': 1, 'shots': 1, 'great,': 1, 'drive': 1, 'highway': 1, 'LED': 1, 'lamp': 1, 'posts': 1, 'headlight.': 1, 'plate': 1, 'front.': 1, 'SDcard': 1, 'fingernails': 1, 'butterknife': 1, 'vantrue': 1, 'r2': 1, 'picture,': 1, 'options,': 1, 'yes,': 1, 'manual.': 1, 'research': 1, 'model': 1, 'sites': 1, 'paper': 1, 'report': 1, 'eBay': 1, 'model.': 1, 'breeze.': 1, 'picture': 1, 'low.': 1, 'places': 1, 'instructions.': 1, 'company': 1, 'products.': 1, 'readed': 1, 'web': 1, 'site': 1, 'returns,': 1, 'return': 1, 'wondow': 1, 'base.': 1, 'mount),': 1, 'defect': 1, 'charge;': 1, 'anymore.': 1, \"you'll\": 1, 'store': 1, 'recordings': 1, '(and': 1, 'record).': 1, 'users': 1, 'problem.': 1, 'everyone.': 1, 'terrible.': 1, 'weather': 1, 'loose.': 1, 'capability,': 1, '(tag)': 1, 'bitrate': 1, 'looks': 1, 'DVD': 1, 'interior': 1, 'film': 1, 'notice': 1, 'taillights': 1, 'headlights': 1, 'excessively.': 1, 'mine': 1, 'night.': 1, 'Also,': 1, 'minutes.': 1, 'module': 1, 'comment': 1, 'reviewers': 1, \"I'll\": 1, 'amount': 1, 'bottom': 1, 'side.': 1, 'cause': 1, 'literally:': 1, 'insert': 1, 'card,': 1, '32GB': 1, 'firmware,': 1, 'location': 1, 'radar': 1, 'icon': 1, 'hand': 1, 'left': 1, 'described.': 1, 'cams.': 1, 'light,': 1, 'ones.': 1, \"haven't\": 1, 'viewer': 1, 'program': 1, 'temperature': 1, 'what,': 1, 'cam!': 1, 'specified.': 1, '(new)': 1, 'life!': 1, 'shack': 1, 'cordless': 1, 'Delivery!': 1, 'again!': 1, 'promised,': 1, 'advice': 1, 'changes': 1, 'l': 1, 'Batteries': 1, 'Bluetooth...': 1, 'OK,': 1, 'callers': 1, 'it...': 1, 'integration,': 1, 'M8': 1, 'M10': 1, 'drivers': 1, 'money........': 1, 'sync': 1, 'backing': 1, 'removal': 1, 'distortion': 1, 'music.': 1, 'tape': 1, 'base': 1, 'failed.': 1, 'silicone': 1, 'FM': 1, 'transmitter,': 1, 'Bluetooth': 1, 'best,': 1, 'clear.': 1, 'nothing': 1, 'sensitive,': 1, 'silence': 1, 'player,': 1, 'forward,': 1, 'play.': 1, 'song.': 1, 'brand': 1, 'friend': 1, 'microphone.': 1, 'player': 1, 'microSD': 1, 'slot.': 1, 'S500,': 1, 'command': 1, 'foremost,': 1, 'products,': 1, 'integration': 1, 'sorts': 1, 'skeptical.': 1, 'yet,': 1, 'try.': 1, 'calls,': 1, 'bonus': 1, 'reason': 1, 'sounds': 1, 'stuff': 1, 'playlists.': 1, 'form': 1, 'hiss': 1, 'band': 1, 'metro': 1, 'positions,': 1, 'confines': 1, 'place.': 1, 'opinion.': 1, 'ease': 1, 'switching': 1, 'stations': 1, 'fly.': 1, 'stays': 1, 'city.': 1, 'seconds,': 1, 'eyes': 1, 'capability.': 1, 'socks': 1, 'another.': 1, 'daughters': 1, 'driving.': 1, 'investment.': 1, 'beeps': 1, 'stereo': 1, 'signals': 1, 'connected.': 1, 'touch.': 1, 'trip.': 1, 'enjoy.': 1, 'purpose': 1, 'reception': 1, 'radio,': 1, 'sound.': 1, 'vehicle..': 1, 'RECOMENDADO': 1, 'complaint': 1, 'calling.': 1, 'lot': 1, 'thing:': 1, 'anything!': 1, 'app': 1, 'output': 1, 'responding.': 1, 'claim': 1, 'back.': 1, 'say.': 1, 'Return': 1, 'week': 1, 'cable!': 1, 'computer': 1, 'days,': 1, 'Kindles': 1, 'Kindle,': 1, 'hours': 1, 'percent.': 1, 'sturdy,': 1, 'investment!': 1, 'expectations.': 1, 'right': 1, 'puppy': 1, 'fare': 1, 'lot,': 1, 'ofeasier!!': 1, 'flawlessly.': 1, 'vendor': 1, 'neatly.': 1, 'stout': 1, 'nicely.': 1, 'years': 1, 'to,': 1, 'kindle': 1, 's': 1, 'stop.reading': 1, 'exposure': 1, 'sunlight': 1, 'brittle.': 1, 'feet': 1, 'stand.': 1, 'experience': 1, 'electronics': 1, 'configurations': 1, '(this': 1, 'stronger.': 1, 'href=\"/Kindle-USB-Cable-Nylon-Micro-USB-to-USB-Cable-Deego-10ft-High-Speed-USB-2-0-Cable-for-Amazon-Kindle-Fire-HD-HDX-Kindle-Paperwhite-Voyage-Oasis-Amazon-Tap/dp/B01HJCN1EI/ref=cmcrarpdrvwtxt?ie=UTF8\">Kindle': 1, 'Nylon': 1, 'Micro-USB': 1, 'Speed': 1, 'multitude': 1, 'lost,': 1, 'child': 1, 'fight': 1, 'chance': 1, 'them!': 1, 'LOVE': 1, 'issues.': 1, 'wallmart': 1, 'withing': 1, 'cheaper.': 1, 'in,': 1, 'click': 1, 'force': 1, 'finish,': 1, '(example': 1, 'galaxy': 1, 'a1.5': 1, 'least)': 1, '\"your': 1, 'connectors,': 1, 'new.': 1, 'intended...': 1, 'far.': 1, 'odds.': 1, 'charged.': 1, 'Note': 1, 'data': 1, 'transfer': 1, 'movement': 1, 'maze': 1, 'table': 1, 'outlets.': 1, 'Lightning': 1, 'shipping.': 1, 'dashboard': 1, 'easily.': 1, 'toddler': 1, 'test.': 1, 'tip': 1, 'fins': 1, 'children,': 1, 'ages': 1, 'measure': 1, 'freedom': 1, 'responsibility': 1, 'tablets': 1, 'long.': 1, 'mission': 1, 'brands': 1, 'setup,': 1, 'wall': 1, 'outlet': 1, 'place': 1, 'reach,': 1, 'wich': 1, 'snake': 1, 'zip': 1, 'tie': 1, 'pain,': 1, 'least.': 1, 'adult,': 1, 'cable,': 1, 'purchase.': 1, 'them,': 1, 'bet': 1, 'brand.': 1, 'sturdy.': 1, 'snap': 1, 'phone,': 1, 'house': 1, 'house.': 1, 'Great!': 1, 'People': 1, 'controllers!!!': 1, 'using.': 1, 'broke.': 1, 'casing.': 1, 'cords.': 1, 'brands.': 1, 'up,': 1, 'Plug': 1, 'description': 1, 'packaging': 1, \"isn't\": 1, 'driver': 1, 'online.': 1, 'Mac': 1, 'waste': 1, 'TP-LINK': 1, 'TL-WN725N': 1, 'plug-and-play,': 1, 'instructions': 1, 'chinese.': 1, 'refund.': 1, 'year.': 1, 'length.': 1, 'long,working': 1, 'EDIT:': 1, 'capabilities': 1, 'support.': 1, 'unit,': 1, 'capabilities,': 1, 'mount).': 1, 'cameras.': 1, 'trouble': 1, \"I'd\": 1, 'formatting': 1, '(a': 1, 'card),': 1, 'froze,': 1, 'off,': 1, 'etc.': 1, 'excellent.': 1, 'folks': 1, 'glass.': 1, 'refund': 1, 'route': 1, 'problems.': 1, 'Pros:': 1, 'price,': 1, 'cups': 1, 'regular': 1, 'However,': 1, 'glass': 1, 'vehicle,': 1, 'issues!': 1, 'lifetime': 1, 'clue': 1, 'cradle': 1, '(there': 1, 'telemarketers': 1, 'day).': 1, 'batteries': 1, 'two,': 1, 'supplier.': 1, 'everythign': 1, 'max.': 1, 'tranceiver!': 1, 'holder!': 1, 'reasons.': 1, 'couch': 1, 'recliner.': 1, 'everybody': 1, 'destroy.': 1, 'Update....after': 1, 'flexibility': 1, 'uses': 1, 'knock.': 1, 'while': 1, 'effect': 1, 'connectivity': 1, 'functionality.': 1, ':(': 1, 'expected.': 1, 'packaged.': 1, 'sales': 1, '10ft.': 1, 'pair': 1, '(that': 1, 'replacing)': 1, 'receipt': 1, 'extension': 1, 'gaming': 1, 'pc': 1, 'yards': 1, 'router': 1, 'house,': 1, 'location.': 1, 'signal': 1, 'strength': 1, '15-17mbps': 1, 'conditions.': 1, 'comparison.': 1, 'provider': 1, 'trouble.': 2, 'light': 2, 'pink': 2, 'quickly.': 2, 'quality.': 2, 'Best': 2, 'again.': 2, 'game': 2, 'lengths': 2, 'usb': 2, 'metal': 2, 'abuse': 2, 'great!': 2, 'covering': 2, 'resolution': 2, 'processor': 2, 'delays': 2, 'sensor': 2, 'windshield': 2, 'orientation': 2, 'wire': 2, 'Event': 2, 'folder': 2, 'button': 2, 'snapshot': 2, 'image': 2, 'error': 2, 'part': 2, 'number': 2, 'properly.': 2, 'pack': 2, 'IR': 2, 'summer': 2, 'lever': 2, 'weight': 2, 'record': 2, 'year': 2, 'memory': 2, 'class': 2, 'ok': 2, 'already.': 2, 'sound': 2, 'license': 2, '\"EVENTS\"': 2, 'week.': 2, 'road': 2, 'trailer': 2, 'fault.': 2, 'Love': 2, 'install.': 2, 'fine': 2, 'one,': 2, 'way': 2, 'day': 2, 'cigarette': 2, 'matter': 2, 'cell': 2, 'mount.': 2, 'well,': 2, 'lights': 2, 'system': 2, 'Night': 2, 'case': 2, 'car,': 2, 'enough,': 2, 'it.': 2, 'buttons': 2, 'do,': 2, 'email': 2, 'thing': 2, 'purchase': 2, 'date': 2, 'stamping,': 2, 'screen': 2, 'minutes': 2, 'files': 2, 'problem': 2, 'device,': 2, 'I': 2, 'great.': 2, 'side': 2, 'source': 2, 'replacement': 2, 'lt': 2, 'review.': 2, 'music': 2, 'calls': 2, 'call': 2, 'HTC': 2, 'ALL': 2, 'months.': 2, 'audio': 2, 'MP3': 2, 'sound,': 2, 'stock': 2, 'expectations': 2, 'this,': 2, 'interference': 2, 'area': 2, 'transmitter': 2, 'charger.': 2, 'capability': 2, 'none': 2, 'others': 2, 'Ok': 2, 'charges': 2, 'cord,': 2, 'love': 2, 'ends': 2, 'cover': 2, 'connection': 2, 'Cable,': 2, 'devices': 2, 'amp': 2, 'works': 2, 'dozens': 2, 'kids': 2, 'working.': 2, \"doesn't\": 2, 'kitty': 2, 'X2': 2, 'phones': 2, '6ft': 2, 'cables,': 3, \"wouldn't\": 3, 'port': 3, 'money': 3, 'Customer': 3, 'duty': 3, 'connector': 3, 'star': 3, 'cup': 3, 'option': 3, 'link': 3, 'firmware': 3, 'mode': 3, 'function': 3, 'today': 3, 'problems': 3, 'footage': 3, 'Camera': 3, 'lock': 3, 'features': 3, 'screws': 3, 'mount,': 3, 'rating': 3, \"didn't\": 3, 'car.': 3, 'product.': 3, 'month': 3, 'me,': 3, \"you're\": 3, 'accident': 3, 'itself.': 3, 'colors': 3, 'night': 3, 'things': 3, 'setup': 3, 'stars': 3, 'speed': 3, 'anything': 3, 'life': 3, 'fine.': 3, 'work.': 3, 'antenna': 3, 'hands': 3, 'everything': 3, 'device.': 3, 'support': 3, 'pad': 3, 'them.': 4, 'cable.': 4, 'use': 4, \"won't\": 4, 'cameras': 4, 'suction': 4, 'mounts.': 4, 'feature': 4, 'point': 4, 'cars': 4, 'cams': 4, 'price.': 4, \"can't\": 4, 'videos': 4, 'front': 4, 'cam.': 4, 'camera.': 4, 'time.': 4, \"I'm\": 4, 'this.': 4, 'end': 4, 'A': 4, 'it,': 4, 'unit': 4, 'good.': 4, 'bluetooth': 4, 'people': 4, 'cables.': 4, 'charging': 5, \"it's\": 5, 'nylon': 5, 'service': 5, 'item': 5, 'well.': 5, 'loop': 5, 'parking': 5, 'dashcam': 5, 'kind': 5, 'phone.': 5, 'use,': 5, 'radio': 5, 'couple': 5, \"I've\": 5, 'cord.': 6, 'use.': 6, 'customer': 6, 'days': 6, 'review': 6, 'size': 6, 'design': 6, 'issue': 6, 'months': 6, 'recording': 6, 'one': 6, 'plug': 6, 'GPS': 6, 'weeks': 6, 'cords': 6, 'color': 7, 'charger': 7, 'SD': 7, 'something': 7, 'work': 7, 'cam': 7, 'bit': 7, 'device': 8, 'charge': 8, \"don't\": 8, 'video': 8, 'car': 8, 'product': 8, 'N1': 9, 'price': 9, 'cables': 10, 'power': 11, 'card': 11, 'length': 12, 'time': 13, 'dash': 13, 'R2': 14, 'battery': 14, 'quality': 15, 'phone': 16, 'cord': 18, 'cable': 20, 'camera': 38}\n"
     ]
    }
   ],
   "source": [
    "import operator\n",
    "sorted_freq_dist=sorted(freq_dist.items(),key=operator.itemgetter(1))\n",
    "# change into the dictionary since it is easier to approach\n",
    "dict_sorted_freq_dist=dict(sorted_freq_dist)\n",
    "\n",
    "print(dict_sorted_freq_dist)"
   ]
  },
  {
   "cell_type": "code",
   "execution_count": 13,
   "metadata": {},
   "outputs": [
    {
     "ename": "KeyError",
     "evalue": "0",
     "output_type": "error",
     "traceback": [
      "\u001b[1;31m---------------------------------------------------------------------------\u001b[0m",
      "\u001b[1;31mKeyError\u001b[0m                                  Traceback (most recent call last)",
      "\u001b[1;32m<ipython-input-13-df0392e6a3ee>\u001b[0m in \u001b[0;36m<module>\u001b[1;34m()\u001b[0m\n\u001b[1;32m----> 1\u001b[1;33m \u001b[0mprint\u001b[0m\u001b[1;33m(\u001b[0m\u001b[0mfreq_dist\u001b[0m\u001b[1;33m[\u001b[0m\u001b[1;36m0\u001b[0m\u001b[1;33m]\u001b[0m\u001b[1;33m)\u001b[0m\u001b[1;33m\u001b[0m\u001b[0m\n\u001b[0m",
      "\u001b[1;31mKeyError\u001b[0m: 0"
     ]
    }
   ],
   "source": [
    "print(freq_dist[0])"
   ]
  },
  {
   "cell_type": "code",
   "execution_count": null,
   "metadata": {},
   "outputs": [],
   "source": []
  }
 ],
 "metadata": {
  "kernelspec": {
   "display_name": "Python 3",
   "language": "python",
   "name": "python3"
  },
  "language_info": {
   "codemirror_mode": {
    "name": "ipython",
    "version": 3
   },
   "file_extension": ".py",
   "mimetype": "text/x-python",
   "name": "python",
   "nbconvert_exporter": "python",
   "pygments_lexer": "ipython3",
   "version": "3.6.5"
  }
 },
 "nbformat": 4,
 "nbformat_minor": 2
}
